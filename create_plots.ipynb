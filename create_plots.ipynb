{
 "cells": [
  {
   "cell_type": "markdown",
   "metadata": {},
   "source": [
    "Anova, ancova, hours?"
   ]
  },
  {
   "cell_type": "code",
   "execution_count": 1,
   "metadata": {
    "collapsed": true
   },
   "outputs": [],
   "source": [
    "import pandas as pd\n",
    "import seaborn as sns\n",
    "import numpy as np\n",
    "import matplotlib.pyplot as plt\n",
    "import scipy.stats as stats\n",
    "%matplotlib inline"
   ]
  },
  {
   "cell_type": "code",
   "execution_count": 2,
   "metadata": {
    "collapsed": true
   },
   "outputs": [],
   "source": [
    "df = pd.read_csv('no_show.csv')"
   ]
  },
  {
   "cell_type": "markdown",
   "metadata": {},
   "source": [
    "A plotting helper function."
   ]
  },
  {
   "cell_type": "code",
   "execution_count": 3,
   "metadata": {
    "collapsed": true
   },
   "outputs": [],
   "source": [
    "def plotCountNoShow(df, col, horiz=False):\n",
    "    fig, axes = plt.subplots(1,2, figsize=(14, 6))\n",
    "    axes = axes.flat\n",
    "    sns.countplot(df[col], ax=axes[0])\n",
    "    if horiz:\n",
    "        sns.barplot(y=col, x='no_show', data=df, ax=axes[1], orient='h')\n",
    "    else:\n",
    "        sns.barplot(x=col, y='no_show', data=df, ax=axes[1])\n",
    "    axes[1].set_title('No show rate by {}'.format(col))\n",
    "    plt.show()"
   ]
  },
  {
   "cell_type": "markdown",
   "metadata": {},
   "source": [
    "## About the data\n",
    "\n",
    "The [dataset](https://www.kaggle.com/joniarroba/noshowappointments) describes 111k medical appointments in Brazil, including patient demographic information, geographic and temporal information, and whether the patient showed up. Unfortunately, as of this writing, we don't know the exact source of the data, because the user who uploaded it to kaggle has said its source is confidential. But its an interesting dataset nonetheless, so let's explore it.\n"
   ]
  },
  {
   "cell_type": "markdown",
   "metadata": {},
   "source": [
    "Parse patientid into a friendlier format."
   ]
  },
  {
   "cell_type": "code",
   "execution_count": 4,
   "metadata": {
    "collapsed": false
   },
   "outputs": [
    {
     "data": {
      "text/plain": [
       "110527"
      ]
     },
     "execution_count": 4,
     "metadata": {},
     "output_type": "execute_result"
    }
   ],
   "source": [
    "len(df)"
   ]
  },
  {
   "cell_type": "code",
   "execution_count": 5,
   "metadata": {
    "collapsed": false
   },
   "outputs": [
    {
     "data": {
      "text/html": [
       "<div>\n",
       "<style>\n",
       "    .dataframe thead tr:only-child th {\n",
       "        text-align: right;\n",
       "    }\n",
       "\n",
       "    .dataframe thead th {\n",
       "        text-align: left;\n",
       "    }\n",
       "\n",
       "    .dataframe tbody tr th {\n",
       "        vertical-align: top;\n",
       "    }\n",
       "</style>\n",
       "<table border=\"1\" class=\"dataframe\">\n",
       "  <thead>\n",
       "    <tr style=\"text-align: right;\">\n",
       "      <th></th>\n",
       "      <th>PatientId</th>\n",
       "      <th>AppointmentID</th>\n",
       "      <th>Age</th>\n",
       "      <th>Scholarship</th>\n",
       "      <th>Hipertension</th>\n",
       "      <th>Diabetes</th>\n",
       "      <th>Alcoholism</th>\n",
       "      <th>Handcap</th>\n",
       "      <th>SMS_received</th>\n",
       "    </tr>\n",
       "  </thead>\n",
       "  <tbody>\n",
       "    <tr>\n",
       "      <th>count</th>\n",
       "      <td>1.105270e+05</td>\n",
       "      <td>1.105270e+05</td>\n",
       "      <td>110527.000000</td>\n",
       "      <td>110527.000000</td>\n",
       "      <td>110527.000000</td>\n",
       "      <td>110527.000000</td>\n",
       "      <td>110527.000000</td>\n",
       "      <td>110527.000000</td>\n",
       "      <td>110527.000000</td>\n",
       "    </tr>\n",
       "    <tr>\n",
       "      <th>mean</th>\n",
       "      <td>1.474963e+14</td>\n",
       "      <td>5.675305e+06</td>\n",
       "      <td>37.088874</td>\n",
       "      <td>0.098266</td>\n",
       "      <td>0.197246</td>\n",
       "      <td>0.071865</td>\n",
       "      <td>0.030400</td>\n",
       "      <td>0.022248</td>\n",
       "      <td>0.321026</td>\n",
       "    </tr>\n",
       "    <tr>\n",
       "      <th>std</th>\n",
       "      <td>2.560949e+14</td>\n",
       "      <td>7.129575e+04</td>\n",
       "      <td>23.110205</td>\n",
       "      <td>0.297675</td>\n",
       "      <td>0.397921</td>\n",
       "      <td>0.258265</td>\n",
       "      <td>0.171686</td>\n",
       "      <td>0.161543</td>\n",
       "      <td>0.466873</td>\n",
       "    </tr>\n",
       "    <tr>\n",
       "      <th>min</th>\n",
       "      <td>3.921784e+04</td>\n",
       "      <td>5.030230e+06</td>\n",
       "      <td>-1.000000</td>\n",
       "      <td>0.000000</td>\n",
       "      <td>0.000000</td>\n",
       "      <td>0.000000</td>\n",
       "      <td>0.000000</td>\n",
       "      <td>0.000000</td>\n",
       "      <td>0.000000</td>\n",
       "    </tr>\n",
       "    <tr>\n",
       "      <th>25%</th>\n",
       "      <td>4.172614e+12</td>\n",
       "      <td>5.640286e+06</td>\n",
       "      <td>18.000000</td>\n",
       "      <td>0.000000</td>\n",
       "      <td>0.000000</td>\n",
       "      <td>0.000000</td>\n",
       "      <td>0.000000</td>\n",
       "      <td>0.000000</td>\n",
       "      <td>0.000000</td>\n",
       "    </tr>\n",
       "    <tr>\n",
       "      <th>50%</th>\n",
       "      <td>3.173184e+13</td>\n",
       "      <td>5.680573e+06</td>\n",
       "      <td>37.000000</td>\n",
       "      <td>0.000000</td>\n",
       "      <td>0.000000</td>\n",
       "      <td>0.000000</td>\n",
       "      <td>0.000000</td>\n",
       "      <td>0.000000</td>\n",
       "      <td>0.000000</td>\n",
       "    </tr>\n",
       "    <tr>\n",
       "      <th>75%</th>\n",
       "      <td>9.439172e+13</td>\n",
       "      <td>5.725524e+06</td>\n",
       "      <td>55.000000</td>\n",
       "      <td>0.000000</td>\n",
       "      <td>0.000000</td>\n",
       "      <td>0.000000</td>\n",
       "      <td>0.000000</td>\n",
       "      <td>0.000000</td>\n",
       "      <td>1.000000</td>\n",
       "    </tr>\n",
       "    <tr>\n",
       "      <th>max</th>\n",
       "      <td>9.999816e+14</td>\n",
       "      <td>5.790484e+06</td>\n",
       "      <td>115.000000</td>\n",
       "      <td>1.000000</td>\n",
       "      <td>1.000000</td>\n",
       "      <td>1.000000</td>\n",
       "      <td>1.000000</td>\n",
       "      <td>4.000000</td>\n",
       "      <td>1.000000</td>\n",
       "    </tr>\n",
       "  </tbody>\n",
       "</table>\n",
       "</div>"
      ],
      "text/plain": [
       "          PatientId  AppointmentID            Age    Scholarship  \\\n",
       "count  1.105270e+05   1.105270e+05  110527.000000  110527.000000   \n",
       "mean   1.474963e+14   5.675305e+06      37.088874       0.098266   \n",
       "std    2.560949e+14   7.129575e+04      23.110205       0.297675   \n",
       "min    3.921784e+04   5.030230e+06      -1.000000       0.000000   \n",
       "25%    4.172614e+12   5.640286e+06      18.000000       0.000000   \n",
       "50%    3.173184e+13   5.680573e+06      37.000000       0.000000   \n",
       "75%    9.439172e+13   5.725524e+06      55.000000       0.000000   \n",
       "max    9.999816e+14   5.790484e+06     115.000000       1.000000   \n",
       "\n",
       "        Hipertension       Diabetes     Alcoholism        Handcap  \\\n",
       "count  110527.000000  110527.000000  110527.000000  110527.000000   \n",
       "mean        0.197246       0.071865       0.030400       0.022248   \n",
       "std         0.397921       0.258265       0.171686       0.161543   \n",
       "min         0.000000       0.000000       0.000000       0.000000   \n",
       "25%         0.000000       0.000000       0.000000       0.000000   \n",
       "50%         0.000000       0.000000       0.000000       0.000000   \n",
       "75%         0.000000       0.000000       0.000000       0.000000   \n",
       "max         1.000000       1.000000       1.000000       4.000000   \n",
       "\n",
       "        SMS_received  \n",
       "count  110527.000000  \n",
       "mean        0.321026  \n",
       "std         0.466873  \n",
       "min         0.000000  \n",
       "25%         0.000000  \n",
       "50%         0.000000  \n",
       "75%         1.000000  \n",
       "max         1.000000  "
      ]
     },
     "execution_count": 5,
     "metadata": {},
     "output_type": "execute_result"
    }
   ],
   "source": [
    "df.describe()"
   ]
  },
  {
   "cell_type": "code",
   "execution_count": 253,
   "metadata": {
    "collapsed": false
   },
   "outputs": [
    {
     "data": {
      "text/plain": [
       "PatientId         0\n",
       "AppointmentID     0\n",
       "Gender            0\n",
       "ScheduledDay      0\n",
       "AppointmentDay    0\n",
       "Age               0\n",
       "Neighbourhood     0\n",
       "Scholarship       0\n",
       "Hipertension      0\n",
       "Diabetes          0\n",
       "Alcoholism        0\n",
       "Handcap           0\n",
       "SMS_received      0\n",
       "No-show           0\n",
       "dtype: int64"
      ]
     },
     "execution_count": 253,
     "metadata": {},
     "output_type": "execute_result"
    }
   ],
   "source": [
    "df.isnull().sum()"
   ]
  },
  {
   "cell_type": "code",
   "execution_count": 6,
   "metadata": {
    "collapsed": false
   },
   "outputs": [
    {
     "data": {
      "text/html": [
       "<div>\n",
       "<style>\n",
       "    .dataframe thead tr:only-child th {\n",
       "        text-align: right;\n",
       "    }\n",
       "\n",
       "    .dataframe thead th {\n",
       "        text-align: left;\n",
       "    }\n",
       "\n",
       "    .dataframe tbody tr th {\n",
       "        vertical-align: top;\n",
       "    }\n",
       "</style>\n",
       "<table border=\"1\" class=\"dataframe\">\n",
       "  <thead>\n",
       "    <tr style=\"text-align: right;\">\n",
       "      <th></th>\n",
       "      <th>PatientId</th>\n",
       "      <th>AppointmentID</th>\n",
       "      <th>Gender</th>\n",
       "      <th>ScheduledDay</th>\n",
       "      <th>AppointmentDay</th>\n",
       "      <th>Age</th>\n",
       "      <th>Neighbourhood</th>\n",
       "      <th>Scholarship</th>\n",
       "      <th>Hipertension</th>\n",
       "      <th>Diabetes</th>\n",
       "      <th>Alcoholism</th>\n",
       "      <th>Handcap</th>\n",
       "      <th>SMS_received</th>\n",
       "      <th>No-show</th>\n",
       "    </tr>\n",
       "  </thead>\n",
       "  <tbody>\n",
       "    <tr>\n",
       "      <th>0</th>\n",
       "      <td>2.987250e+13</td>\n",
       "      <td>5642903</td>\n",
       "      <td>F</td>\n",
       "      <td>2016-04-29T18:38:08Z</td>\n",
       "      <td>2016-04-29T00:00:00Z</td>\n",
       "      <td>62</td>\n",
       "      <td>JARDIM DA PENHA</td>\n",
       "      <td>0</td>\n",
       "      <td>1</td>\n",
       "      <td>0</td>\n",
       "      <td>0</td>\n",
       "      <td>0</td>\n",
       "      <td>0</td>\n",
       "      <td>No</td>\n",
       "    </tr>\n",
       "    <tr>\n",
       "      <th>1</th>\n",
       "      <td>5.589978e+14</td>\n",
       "      <td>5642503</td>\n",
       "      <td>M</td>\n",
       "      <td>2016-04-29T16:08:27Z</td>\n",
       "      <td>2016-04-29T00:00:00Z</td>\n",
       "      <td>56</td>\n",
       "      <td>JARDIM DA PENHA</td>\n",
       "      <td>0</td>\n",
       "      <td>0</td>\n",
       "      <td>0</td>\n",
       "      <td>0</td>\n",
       "      <td>0</td>\n",
       "      <td>0</td>\n",
       "      <td>No</td>\n",
       "    </tr>\n",
       "    <tr>\n",
       "      <th>2</th>\n",
       "      <td>4.262962e+12</td>\n",
       "      <td>5642549</td>\n",
       "      <td>F</td>\n",
       "      <td>2016-04-29T16:19:04Z</td>\n",
       "      <td>2016-04-29T00:00:00Z</td>\n",
       "      <td>62</td>\n",
       "      <td>MATA DA PRAIA</td>\n",
       "      <td>0</td>\n",
       "      <td>0</td>\n",
       "      <td>0</td>\n",
       "      <td>0</td>\n",
       "      <td>0</td>\n",
       "      <td>0</td>\n",
       "      <td>No</td>\n",
       "    </tr>\n",
       "    <tr>\n",
       "      <th>3</th>\n",
       "      <td>8.679512e+11</td>\n",
       "      <td>5642828</td>\n",
       "      <td>F</td>\n",
       "      <td>2016-04-29T17:29:31Z</td>\n",
       "      <td>2016-04-29T00:00:00Z</td>\n",
       "      <td>8</td>\n",
       "      <td>PONTAL DE CAMBURI</td>\n",
       "      <td>0</td>\n",
       "      <td>0</td>\n",
       "      <td>0</td>\n",
       "      <td>0</td>\n",
       "      <td>0</td>\n",
       "      <td>0</td>\n",
       "      <td>No</td>\n",
       "    </tr>\n",
       "    <tr>\n",
       "      <th>4</th>\n",
       "      <td>8.841186e+12</td>\n",
       "      <td>5642494</td>\n",
       "      <td>F</td>\n",
       "      <td>2016-04-29T16:07:23Z</td>\n",
       "      <td>2016-04-29T00:00:00Z</td>\n",
       "      <td>56</td>\n",
       "      <td>JARDIM DA PENHA</td>\n",
       "      <td>0</td>\n",
       "      <td>1</td>\n",
       "      <td>1</td>\n",
       "      <td>0</td>\n",
       "      <td>0</td>\n",
       "      <td>0</td>\n",
       "      <td>No</td>\n",
       "    </tr>\n",
       "  </tbody>\n",
       "</table>\n",
       "</div>"
      ],
      "text/plain": [
       "      PatientId  AppointmentID Gender          ScheduledDay  \\\n",
       "0  2.987250e+13        5642903      F  2016-04-29T18:38:08Z   \n",
       "1  5.589978e+14        5642503      M  2016-04-29T16:08:27Z   \n",
       "2  4.262962e+12        5642549      F  2016-04-29T16:19:04Z   \n",
       "3  8.679512e+11        5642828      F  2016-04-29T17:29:31Z   \n",
       "4  8.841186e+12        5642494      F  2016-04-29T16:07:23Z   \n",
       "\n",
       "         AppointmentDay  Age      Neighbourhood  Scholarship  Hipertension  \\\n",
       "0  2016-04-29T00:00:00Z   62    JARDIM DA PENHA            0             1   \n",
       "1  2016-04-29T00:00:00Z   56    JARDIM DA PENHA            0             0   \n",
       "2  2016-04-29T00:00:00Z   62      MATA DA PRAIA            0             0   \n",
       "3  2016-04-29T00:00:00Z    8  PONTAL DE CAMBURI            0             0   \n",
       "4  2016-04-29T00:00:00Z   56    JARDIM DA PENHA            0             1   \n",
       "\n",
       "   Diabetes  Alcoholism  Handcap  SMS_received No-show  \n",
       "0         0           0        0             0      No  \n",
       "1         0           0        0             0      No  \n",
       "2         0           0        0             0      No  \n",
       "3         0           0        0             0      No  \n",
       "4         1           0        0             0      No  "
      ]
     },
     "execution_count": 6,
     "metadata": {},
     "output_type": "execute_result"
    }
   ],
   "source": [
    "df.head()"
   ]
  },
  {
   "cell_type": "code",
   "execution_count": 7,
   "metadata": {
    "collapsed": true
   },
   "outputs": [],
   "source": [
    "cols = df.columns\n",
    "cols = [col.strip().lower().replace('-', '_') for col in cols]\n",
    "df.columns = cols"
   ]
  },
  {
   "cell_type": "code",
   "execution_count": 8,
   "metadata": {
    "collapsed": true
   },
   "outputs": [],
   "source": [
    "df['patientid'] =  df.patientid.apply(lambda x: str(int(x)))"
   ]
  },
  {
   "cell_type": "markdown",
   "metadata": {},
   "source": [
    "Let's first take a top level look at the no show variable."
   ]
  },
  {
   "cell_type": "code",
   "execution_count": 9,
   "metadata": {
    "collapsed": false
   },
   "outputs": [
    {
     "data": {
      "text/plain": [
       "<matplotlib.axes._subplots.AxesSubplot at 0xd1fc5f8>"
      ]
     },
     "execution_count": 9,
     "metadata": {},
     "output_type": "execute_result"
    },
    {
     "data": {
      "image/png": "[encoded data removed]",
      "text/plain": [
       "<matplotlib.figure.Figure at 0xc3e9d30>"
      ]
     },
     "metadata": {},
     "output_type": "display_data"
    }
   ],
   "source": [
    "sns.countplot(df.no_show)"
   ]
  },
  {
   "cell_type": "code",
   "execution_count": 10,
   "metadata": {
    "collapsed": false
   },
   "outputs": [
    {
     "data": {
      "text/plain": [
       "No     0.798067\n",
       "Yes    0.201933\n",
       "Name: no_show, dtype: float64"
      ]
     },
     "execution_count": 10,
     "metadata": {},
     "output_type": "execute_result"
    }
   ],
   "source": [
    "df.no_show.value_counts() / len(df)"
   ]
  },
  {
   "cell_type": "markdown",
   "metadata": {},
   "source": [
    "So for 20% of appointments are no shows. I don't have a background in public health, but that seems large enough to have an impact, both in terms of patient welfare and allocation of medical resources. It would be interesting to compare that number to the no show rate in other countries.\n",
    "\n",
    "To make our analysis easier, let's encode the no_show variable. 1 will mean the patient didn't show up. "
   ]
  },
  {
   "cell_type": "code",
   "execution_count": 11,
   "metadata": {
    "collapsed": false
   },
   "outputs": [
    {
     "data": {
      "text/plain": [
       "22319"
      ]
     },
     "execution_count": 11,
     "metadata": {},
     "output_type": "execute_result"
    }
   ],
   "source": [
    "df['no_show'] = df.no_show.apply(lambda x: 1 if x == 'Yes' else 0)\n",
    "df.no_show.sum()"
   ]
  },
  {
   "cell_type": "markdown",
   "metadata": {},
   "source": [
    "### Dates"
   ]
  },
  {
   "cell_type": "markdown",
   "metadata": {},
   "source": [
    "Let's parse our date columns into component parts and calculate the difference in days between the appointment date and when the appointment was scheduled."
   ]
  },
  {
   "cell_type": "code",
   "execution_count": 277,
   "metadata": {
    "collapsed": true
   },
   "outputs": [],
   "source": [
    "for col in ['scheduledday', 'appointmentday']:\n",
    "    df[col] = pd.to_datetime(df[col])\n",
    "    df[col+'_year'] = df[col].dt.year\n",
    "    df[col+'_month'] = df[col].dt.month\n",
    "    df[col+'_dow'] = df[col].dt.dayofweek\n",
    "    \n",
    "df['scheduledday_hour'] = df.scheduledday.dt.hour\n",
    "df['date_diff'] = (df.appointmentday.dt.date - df.scheduledday.dt.date).dt.days "
   ]
  },
  {
   "cell_type": "code",
   "execution_count": 278,
   "metadata": {
    "collapsed": false
   },
   "outputs": [
    {
     "data": {
      "text/html": [
       "<div>\n",
       "<style>\n",
       "    .dataframe thead tr:only-child th {\n",
       "        text-align: right;\n",
       "    }\n",
       "\n",
       "    .dataframe thead th {\n",
       "        text-align: left;\n",
       "    }\n",
       "\n",
       "    .dataframe tbody tr th {\n",
       "        vertical-align: top;\n",
       "    }\n",
       "</style>\n",
       "<table border=\"1\" class=\"dataframe\">\n",
       "  <thead>\n",
       "    <tr style=\"text-align: right;\">\n",
       "      <th></th>\n",
       "      <th>patientid</th>\n",
       "      <th>appointmentid</th>\n",
       "      <th>gender</th>\n",
       "      <th>scheduledday</th>\n",
       "      <th>appointmentday</th>\n",
       "      <th>age</th>\n",
       "      <th>neighbourhood</th>\n",
       "      <th>scholarship</th>\n",
       "      <th>hipertension</th>\n",
       "      <th>diabetes</th>\n",
       "      <th>...</th>\n",
       "      <th>sms_received</th>\n",
       "      <th>no_show</th>\n",
       "      <th>scheduledday_year</th>\n",
       "      <th>scheduledday_month</th>\n",
       "      <th>scheduledday_dow</th>\n",
       "      <th>appointmentday_year</th>\n",
       "      <th>appointmentday_month</th>\n",
       "      <th>appointmentday_dow</th>\n",
       "      <th>scheduledday_hour</th>\n",
       "      <th>date_diff</th>\n",
       "    </tr>\n",
       "  </thead>\n",
       "  <tbody>\n",
       "    <tr>\n",
       "      <th>0</th>\n",
       "      <td>29872499824296</td>\n",
       "      <td>5642903</td>\n",
       "      <td>F</td>\n",
       "      <td>2016-04-29 18:38:08</td>\n",
       "      <td>2016-04-29</td>\n",
       "      <td>62</td>\n",
       "      <td>JARDIM DA PENHA</td>\n",
       "      <td>0</td>\n",
       "      <td>1</td>\n",
       "      <td>0</td>\n",
       "      <td>...</td>\n",
       "      <td>0</td>\n",
       "      <td>0</td>\n",
       "      <td>2016</td>\n",
       "      <td>4</td>\n",
       "      <td>4</td>\n",
       "      <td>2016</td>\n",
       "      <td>4</td>\n",
       "      <td>4</td>\n",
       "      <td>18</td>\n",
       "      <td>0</td>\n",
       "    </tr>\n",
       "    <tr>\n",
       "      <th>1</th>\n",
       "      <td>558997776694438</td>\n",
       "      <td>5642503</td>\n",
       "      <td>M</td>\n",
       "      <td>2016-04-29 16:08:27</td>\n",
       "      <td>2016-04-29</td>\n",
       "      <td>56</td>\n",
       "      <td>JARDIM DA PENHA</td>\n",
       "      <td>0</td>\n",
       "      <td>0</td>\n",
       "      <td>0</td>\n",
       "      <td>...</td>\n",
       "      <td>0</td>\n",
       "      <td>0</td>\n",
       "      <td>2016</td>\n",
       "      <td>4</td>\n",
       "      <td>4</td>\n",
       "      <td>2016</td>\n",
       "      <td>4</td>\n",
       "      <td>4</td>\n",
       "      <td>16</td>\n",
       "      <td>0</td>\n",
       "    </tr>\n",
       "    <tr>\n",
       "      <th>2</th>\n",
       "      <td>4262962299951</td>\n",
       "      <td>5642549</td>\n",
       "      <td>F</td>\n",
       "      <td>2016-04-29 16:19:04</td>\n",
       "      <td>2016-04-29</td>\n",
       "      <td>62</td>\n",
       "      <td>MATA DA PRAIA</td>\n",
       "      <td>0</td>\n",
       "      <td>0</td>\n",
       "      <td>0</td>\n",
       "      <td>...</td>\n",
       "      <td>0</td>\n",
       "      <td>0</td>\n",
       "      <td>2016</td>\n",
       "      <td>4</td>\n",
       "      <td>4</td>\n",
       "      <td>2016</td>\n",
       "      <td>4</td>\n",
       "      <td>4</td>\n",
       "      <td>16</td>\n",
       "      <td>0</td>\n",
       "    </tr>\n",
       "    <tr>\n",
       "      <th>3</th>\n",
       "      <td>867951213174</td>\n",
       "      <td>5642828</td>\n",
       "      <td>F</td>\n",
       "      <td>2016-04-29 17:29:31</td>\n",
       "      <td>2016-04-29</td>\n",
       "      <td>8</td>\n",
       "      <td>PONTAL DE CAMBURI</td>\n",
       "      <td>0</td>\n",
       "      <td>0</td>\n",
       "      <td>0</td>\n",
       "      <td>...</td>\n",
       "      <td>0</td>\n",
       "      <td>0</td>\n",
       "      <td>2016</td>\n",
       "      <td>4</td>\n",
       "      <td>4</td>\n",
       "      <td>2016</td>\n",
       "      <td>4</td>\n",
       "      <td>4</td>\n",
       "      <td>17</td>\n",
       "      <td>0</td>\n",
       "    </tr>\n",
       "    <tr>\n",
       "      <th>4</th>\n",
       "      <td>8841186448183</td>\n",
       "      <td>5642494</td>\n",
       "      <td>F</td>\n",
       "      <td>2016-04-29 16:07:23</td>\n",
       "      <td>2016-04-29</td>\n",
       "      <td>56</td>\n",
       "      <td>JARDIM DA PENHA</td>\n",
       "      <td>0</td>\n",
       "      <td>1</td>\n",
       "      <td>1</td>\n",
       "      <td>...</td>\n",
       "      <td>0</td>\n",
       "      <td>0</td>\n",
       "      <td>2016</td>\n",
       "      <td>4</td>\n",
       "      <td>4</td>\n",
       "      <td>2016</td>\n",
       "      <td>4</td>\n",
       "      <td>4</td>\n",
       "      <td>16</td>\n",
       "      <td>0</td>\n",
       "    </tr>\n",
       "  </tbody>\n",
       "</table>\n",
       "<p>5 rows × 22 columns</p>\n",
       "</div>"
      ],
      "text/plain": [
       "         patientid  appointmentid gender        scheduledday appointmentday  \\\n",
       "0   29872499824296        5642903      F 2016-04-29 18:38:08     2016-04-29   \n",
       "1  558997776694438        5642503      M 2016-04-29 16:08:27     2016-04-29   \n",
       "2    4262962299951        5642549      F 2016-04-29 16:19:04     2016-04-29   \n",
       "3     867951213174        5642828      F 2016-04-29 17:29:31     2016-04-29   \n",
       "4    8841186448183        5642494      F 2016-04-29 16:07:23     2016-04-29   \n",
       "\n",
       "   age      neighbourhood  scholarship  hipertension  diabetes    ...      \\\n",
       "0   62    JARDIM DA PENHA            0             1         0    ...       \n",
       "1   56    JARDIM DA PENHA            0             0         0    ...       \n",
       "2   62      MATA DA PRAIA            0             0         0    ...       \n",
       "3    8  PONTAL DE CAMBURI            0             0         0    ...       \n",
       "4   56    JARDIM DA PENHA            0             1         1    ...       \n",
       "\n",
       "   sms_received  no_show  scheduledday_year  scheduledday_month  \\\n",
       "0             0        0               2016                   4   \n",
       "1             0        0               2016                   4   \n",
       "2             0        0               2016                   4   \n",
       "3             0        0               2016                   4   \n",
       "4             0        0               2016                   4   \n",
       "\n",
       "   scheduledday_dow  appointmentday_year  appointmentday_month  \\\n",
       "0                 4                 2016                     4   \n",
       "1                 4                 2016                     4   \n",
       "2                 4                 2016                     4   \n",
       "3                 4                 2016                     4   \n",
       "4                 4                 2016                     4   \n",
       "\n",
       "   appointmentday_dow  scheduledday_hour  date_diff  \n",
       "0                   4                 18          0  \n",
       "1                   4                 16          0  \n",
       "2                   4                 16          0  \n",
       "3                   4                 17          0  \n",
       "4                   4                 16          0  \n",
       "\n",
       "[5 rows x 22 columns]"
      ]
     },
     "execution_count": 278,
     "metadata": {},
     "output_type": "execute_result"
    }
   ],
   "source": [
    "df.head()"
   ]
  },
  {
   "cell_type": "code",
   "execution_count": 279,
   "metadata": {
    "collapsed": false
   },
   "outputs": [
    {
     "data": {
      "text/plain": [
       "(Timestamp('2016-04-29 00:00:00'), Timestamp('2016-06-08 00:00:00'))"
      ]
     },
     "execution_count": 279,
     "metadata": {},
     "output_type": "execute_result"
    }
   ],
   "source": [
    "df.appointmentday.min(), df.appointmentday.max()"
   ]
  },
  {
   "cell_type": "code",
   "execution_count": 280,
   "metadata": {
    "collapsed": false
   },
   "outputs": [
    {
     "data": {
      "text/plain": [
       "(Timestamp('2015-11-10 07:13:56'), Timestamp('2016-06-08 20:07:23'))"
      ]
     },
     "execution_count": 280,
     "metadata": {},
     "output_type": "execute_result"
    }
   ],
   "source": [
    "df.scheduledday.min(), df.scheduledday.max()"
   ]
  },
  {
   "cell_type": "markdown",
   "metadata": {},
   "source": [
    "As we can see above, our appointment dates span 04/29/2016-06/08/2016, and those appointments began to be scheduled in November of 2015."
   ]
  },
  {
   "cell_type": "code",
   "execution_count": 263,
   "metadata": {
    "collapsed": false
   },
   "outputs": [
    {
     "data": {
      "text/plain": [
       "110527"
      ]
     },
     "execution_count": 263,
     "metadata": {},
     "output_type": "execute_result"
    }
   ],
   "source": [
    "len(df)"
   ]
  },
  {
   "cell_type": "markdown",
   "metadata": {},
   "source": [
    "#### Duplicate data"
   ]
  },
  {
   "cell_type": "code",
   "execution_count": 309,
   "metadata": {
    "collapsed": false
   },
   "outputs": [
    {
     "data": {
      "text/plain": [
       "1199"
      ]
     },
     "execution_count": 309,
     "metadata": {},
     "output_type": "execute_result"
    }
   ],
   "source": [
    "df.drop('appointmentid', axis=1).duplicated(keep=False).sum()"
   ]
  },
  {
   "cell_type": "code",
   "execution_count": 303,
   "metadata": {
    "collapsed": false
   },
   "outputs": [
    {
     "data": {
      "text/plain": [
       "2609"
      ]
     },
     "execution_count": 303,
     "metadata": {},
     "output_type": "execute_result"
    }
   ],
   "source": [
    "df.duplicated(['patientid', 'appointmentday', 'scheduledday'], keep=False).sum()"
   ]
  },
  {
   "cell_type": "code",
   "execution_count": 308,
   "metadata": {
    "collapsed": true
   },
   "outputs": [],
   "source": [
    "uniq_pat = dups.patientid.unique()\n",
    "samp = np.random.permutation(uniq_pat)[:5]\n",
    "p = dups[dups.patientid.isin(samp)]\n",
    "for pat in p:\n",
    "    pat_df = dups[dups.patientid == pat]\n",
    "    for col in dups.columns:\n",
    "        if pat_df[col].nunique() > 1:\n",
    "            print(col)"
   ]
  },
  {
   "cell_type": "markdown",
   "metadata": {},
   "source": [
    "#### Days between appointment date and when it was scheduled"
   ]
  },
  {
   "cell_type": "code",
   "execution_count": 310,
   "metadata": {
    "collapsed": false
   },
   "outputs": [
    {
     "data": {
      "text/plain": [
       "count    110527.000000\n",
       "mean         10.183702\n",
       "std          15.254996\n",
       "min          -6.000000\n",
       "25%           0.000000\n",
       "50%           4.000000\n",
       "75%          15.000000\n",
       "max         179.000000\n",
       "Name: date_diff, dtype: float64"
      ]
     },
     "execution_count": 310,
     "metadata": {},
     "output_type": "execute_result"
    }
   ],
   "source": [
    "df.date_diff.describe()"
   ]
  },
  {
   "cell_type": "code",
   "execution_count": 148,
   "metadata": {
    "collapsed": false
   },
   "outputs": [
    {
     "data": {
      "text/plain": [
       "27033   -1\n",
       "55226   -1\n",
       "64175   -1\n",
       "71533   -6\n",
       "72362   -1\n",
       "Name: date_diff, dtype: int64"
      ]
     },
     "execution_count": 148,
     "metadata": {},
     "output_type": "execute_result"
    }
   ],
   "source": [
    "df[df.date_diff < 0].date_diff"
   ]
  },
  {
   "cell_type": "markdown",
   "metadata": {},
   "source": [
    "It looks like we have a few rows where the appointment was apparently schedulded after it was supposed to take place. This  isn't correct, but it's such a small number of rows that we'll leave it for now."
   ]
  },
  {
   "cell_type": "code",
   "execution_count": 311,
   "metadata": {
    "collapsed": false
   },
   "outputs": [
    {
     "data": {
      "text/plain": [
       "<matplotlib.axes._subplots.AxesSubplot at 0x17ba3eb8>"
      ]
     },
     "execution_count": 311,
     "metadata": {},
     "output_type": "execute_result"
    },
    {
     "data": {
      "image/png": "[encoded data removed]",
      "text/plain": [
       "<matplotlib.figure.Figure at 0x17bb6908>"
      ]
     },
     "metadata": {},
     "output_type": "display_data"
    }
   ],
   "source": [
    "fig, ax = plt.subplots(1,1, figsize=(10, 4))\n",
    "sns.distplot(df.date_diff, kde=False, ax=ax, bins=80)"
   ]
  },
  {
   "cell_type": "code",
   "execution_count": 312,
   "metadata": {
    "collapsed": false
   },
   "outputs": [
    {
     "data": {
      "text/plain": [
       "<matplotlib.text.Text at 0x1bba1b70>"
      ]
     },
     "execution_count": 312,
     "metadata": {},
     "output_type": "execute_result"
    },
    {
     "data": {
      "image/png": "[encoded data removed]",
      "text/plain": [
       "<matplotlib.figure.Figure at 0x22553a20>"
      ]
     },
     "metadata": {},
     "output_type": "display_data"
    }
   ],
   "source": [
    "cdfs = df.groupby('date_diff').date_diff.count().cumsum() / len(df)\n",
    "fig, ax = plt.subplots(1,1, figsize=(8, 8))\n",
    "ax.plot(cdfs.index.values, cdfs.values)\n",
    "ax.set_title('CDF of days between appointment day and scheduled day')"
   ]
  },
  {
   "cell_type": "code",
   "execution_count": 313,
   "metadata": {
    "collapsed": false
   },
   "outputs": [
    {
     "data": {
      "text/plain": [
       "date_diff\n",
       "-6     0.000009\n",
       "-1     0.000045\n",
       " 0     0.348946\n",
       " 1     0.396111\n",
       " 2     0.456956\n",
       " 3     0.481719\n",
       " 4     0.529581\n",
       " 5     0.559230\n",
       " 6     0.595755\n",
       " 7     0.640142\n",
       " 8     0.661241\n",
       " 9     0.675762\n",
       " 10    0.688348\n",
       " 11    0.697278\n",
       " 12    0.707366\n",
       " 13    0.722584\n",
       " 14    0.748939\n",
       " 15    0.762538\n",
       " 16    0.772951\n",
       " 17    0.782967\n",
       " 18    0.792205\n",
       " 19    0.801650\n",
       " 20    0.812390\n",
       " 21    0.829227\n",
       " 22    0.839840\n",
       " 23    0.847277\n",
       " 24    0.852905\n",
       " 25    0.858668\n",
       " 26    0.865282\n",
       " 27    0.874447\n",
       "Name: date_diff, dtype: float64"
      ]
     },
     "execution_count": 313,
     "metadata": {},
     "output_type": "execute_result"
    }
   ],
   "source": [
    "cdfs.head(30)"
   ]
  },
  {
   "cell_type": "markdown",
   "metadata": {},
   "source": [
    "We can see that 35% of appointments have been scheduled on the same day and 65% are scheduled less than one week in advance.\n",
    "\n",
    "Let's now look at the relationship between date_diff and no_show rate."
   ]
  },
  {
   "cell_type": "code",
   "execution_count": 314,
   "metadata": {
    "collapsed": false
   },
   "outputs": [
    {
     "data": {
      "text/plain": [
       "date_diff\n",
       "0     0.046469\n",
       "1     0.213505\n",
       "2     0.238216\n",
       "3     0.235294\n",
       "4     0.232703\n",
       "5     0.266097\n",
       "6     0.247956\n",
       "7     0.266816\n",
       "8     0.287307\n",
       "9     0.274143\n",
       "10    0.316319\n",
       "11    0.316109\n",
       "12    0.316592\n",
       "13    0.318668\n",
       "14    0.313423\n",
       "15    0.333999\n",
       "16    0.304952\n",
       "17    0.316170\n",
       "18    0.305583\n",
       "19    0.347701\n",
       "20    0.343724\n",
       "21    0.308974\n",
       "22    0.344416\n",
       "23    0.335766\n",
       "24    0.377814\n",
       "25    0.401884\n",
       "26    0.359781\n",
       "27    0.315893\n",
       "28    0.294842\n",
       "29    0.326905\n",
       "Name: no_show, dtype: float64"
      ]
     },
     "execution_count": 314,
     "metadata": {},
     "output_type": "execute_result"
    }
   ],
   "source": [
    "perc_no_show = df[df.date_diff >= 0].groupby('date_diff').no_show.mean()\n",
    "perc_no_show.head(30)"
   ]
  },
  {
   "cell_type": "code",
   "execution_count": null,
   "metadata": {
    "collapsed": true
   },
   "outputs": [],
   "source": [
    "fig, ax = plt.subplots(1,1, figsize=(15, 6))\n",
    "to_60 = perc_no_show[:60]\n",
    "to_60.plot(ax=ax)\n",
    "ax.set_title('No-show rate vs. days between scheduled date and appointment date', fontsize=18)\n",
    "ax.set_xlabel('Days between', fontsize=14)\n",
    "ax.set_ylabel('No-show rate', fontsize=14)\n",
    "ax.fill_between(np.arange(60), [0]*60,  to_60.values, alpha=0.3)\n",
    "plt.savefig('rate_vs_wait.png')"
   ]
  },
  {
   "cell_type": "markdown",
   "metadata": {},
   "source": [
    "In the plot above, we've plotted the no-show rate versus the number of days between the scheduling day and appointment day. The rate starts to fluctuate wildly between 60 and 80 days because not many appointments in our data set were scheduled more than that many days in advance. So we have to be skeptical drawing any conclusions regarding anything larger than ~60 days.\n",
    "\n",
    "We can see that patients are very likely to show up for same-day appointments -- only 4% of those appointments were no-shows. From there, the percentage of no-shows seems to rise until hitting a plateau between 30% and 40%."
   ]
  },
  {
   "cell_type": "markdown",
   "metadata": {},
   "source": [
    "#### Day of Week of Appointment"
   ]
  },
  {
   "cell_type": "code",
   "execution_count": 316,
   "metadata": {
    "collapsed": false
   },
   "outputs": [
    {
     "data": {
      "text/html": [
       "<div>\n",
       "<style>\n",
       "    .dataframe thead tr:only-child th {\n",
       "        text-align: right;\n",
       "    }\n",
       "\n",
       "    .dataframe thead th {\n",
       "        text-align: left;\n",
       "    }\n",
       "\n",
       "    .dataframe tbody tr th {\n",
       "        vertical-align: top;\n",
       "    }\n",
       "</style>\n",
       "<table border=\"1\" class=\"dataframe\">\n",
       "  <thead>\n",
       "    <tr style=\"text-align: right;\">\n",
       "      <th></th>\n",
       "      <th>count</th>\n",
       "      <th>mean</th>\n",
       "      <th>std</th>\n",
       "      <th>min</th>\n",
       "      <th>25%</th>\n",
       "      <th>50%</th>\n",
       "      <th>75%</th>\n",
       "      <th>max</th>\n",
       "    </tr>\n",
       "    <tr>\n",
       "      <th>appointmentday_dow</th>\n",
       "      <th></th>\n",
       "      <th></th>\n",
       "      <th></th>\n",
       "      <th></th>\n",
       "      <th></th>\n",
       "      <th></th>\n",
       "      <th></th>\n",
       "      <th></th>\n",
       "    </tr>\n",
       "  </thead>\n",
       "  <tbody>\n",
       "    <tr>\n",
       "      <th>0</th>\n",
       "      <td>22715.0</td>\n",
       "      <td>0.206471</td>\n",
       "      <td>0.404782</td>\n",
       "      <td>0.0</td>\n",
       "      <td>0.0</td>\n",
       "      <td>0.0</td>\n",
       "      <td>0.0</td>\n",
       "      <td>1.0</td>\n",
       "    </tr>\n",
       "    <tr>\n",
       "      <th>1</th>\n",
       "      <td>25640.0</td>\n",
       "      <td>0.200936</td>\n",
       "      <td>0.400708</td>\n",
       "      <td>0.0</td>\n",
       "      <td>0.0</td>\n",
       "      <td>0.0</td>\n",
       "      <td>0.0</td>\n",
       "      <td>1.0</td>\n",
       "    </tr>\n",
       "    <tr>\n",
       "      <th>2</th>\n",
       "      <td>25867.0</td>\n",
       "      <td>0.196892</td>\n",
       "      <td>0.397658</td>\n",
       "      <td>0.0</td>\n",
       "      <td>0.0</td>\n",
       "      <td>0.0</td>\n",
       "      <td>0.0</td>\n",
       "      <td>1.0</td>\n",
       "    </tr>\n",
       "    <tr>\n",
       "      <th>3</th>\n",
       "      <td>17247.0</td>\n",
       "      <td>0.193541</td>\n",
       "      <td>0.395085</td>\n",
       "      <td>0.0</td>\n",
       "      <td>0.0</td>\n",
       "      <td>0.0</td>\n",
       "      <td>0.0</td>\n",
       "      <td>1.0</td>\n",
       "    </tr>\n",
       "    <tr>\n",
       "      <th>4</th>\n",
       "      <td>19019.0</td>\n",
       "      <td>0.212261</td>\n",
       "      <td>0.408920</td>\n",
       "      <td>0.0</td>\n",
       "      <td>0.0</td>\n",
       "      <td>0.0</td>\n",
       "      <td>0.0</td>\n",
       "      <td>1.0</td>\n",
       "    </tr>\n",
       "    <tr>\n",
       "      <th>5</th>\n",
       "      <td>39.0</td>\n",
       "      <td>0.230769</td>\n",
       "      <td>0.426833</td>\n",
       "      <td>0.0</td>\n",
       "      <td>0.0</td>\n",
       "      <td>0.0</td>\n",
       "      <td>0.0</td>\n",
       "      <td>1.0</td>\n",
       "    </tr>\n",
       "  </tbody>\n",
       "</table>\n",
       "</div>"
      ],
      "text/plain": [
       "                      count      mean       std  min  25%  50%  75%  max\n",
       "appointmentday_dow                                                      \n",
       "0                   22715.0  0.206471  0.404782  0.0  0.0  0.0  0.0  1.0\n",
       "1                   25640.0  0.200936  0.400708  0.0  0.0  0.0  0.0  1.0\n",
       "2                   25867.0  0.196892  0.397658  0.0  0.0  0.0  0.0  1.0\n",
       "3                   17247.0  0.193541  0.395085  0.0  0.0  0.0  0.0  1.0\n",
       "4                   19019.0  0.212261  0.408920  0.0  0.0  0.0  0.0  1.0\n",
       "5                      39.0  0.230769  0.426833  0.0  0.0  0.0  0.0  1.0"
      ]
     },
     "execution_count": 316,
     "metadata": {},
     "output_type": "execute_result"
    }
   ],
   "source": [
    "df.groupby('appointmentday_dow').no_show.describe()"
   ]
  },
  {
   "cell_type": "code",
   "execution_count": 317,
   "metadata": {
    "collapsed": false
   },
   "outputs": [
    {
     "data": {
      "image/png": "[encoded data removed]",
      "text/plain": [
       "<matplotlib.figure.Figure at 0x1b4b3630>"
      ]
     },
     "metadata": {},
     "output_type": "display_data"
    }
   ],
   "source": [
    "plotCountNoShow(df, 'appointmentday_dow')"
   ]
  },
  {
   "cell_type": "markdown",
   "metadata": {
    "collapsed": true
   },
   "source": [
    "We can see that there are no appointments on Sunday and so few on Saturday that we shouldn't try to draw any conclusions about that day. For the rest of the week, the percentage of no shows seems a tad higher on Monday and Friday. The difference is small, but if it's a true effect and not just sampling error, perhaps over thousands and thousands of appointments it could have an impact."
   ]
  },
  {
   "cell_type": "markdown",
   "metadata": {},
   "source": [
    "#### Hour Scheduled"
   ]
  },
  {
   "cell_type": "code",
   "execution_count": 318,
   "metadata": {
    "collapsed": false
   },
   "outputs": [
    {
     "data": {
      "image/png": "[encoded data removed]",
      "text/plain": [
       "<matplotlib.figure.Figure at 0x1cc4e5f8>"
      ]
     },
     "metadata": {},
     "output_type": "display_data"
    }
   ],
   "source": [
    "plotCountNoShow(df, 'scheduledday_hour')"
   ]
  },
  {
   "cell_type": "markdown",
   "metadata": {},
   "source": [
    "Looking at the number of appointments scheduled during each hour of the day, we see that there are too appointments few scheduled after 5pm or before 7am (presumably when the medical office isn't open?) to draw conclusions about those hours.\n",
    "\n",
    "The plot on the right seems to show that patients are more likely to show up for appointments scheduled right when the office opens (7am or 8am). I'm guessing this is because patients who call to set up appointments early in the morning have something acutely wrong with them that they wanted checked out quickly, which would make them more likely to show up for the appointment. The graph below of the number of days between scheduling an appointment and the appointment date vs. the hour when the appointment was scheduled suggests this could be true.  "
   ]
  },
  {
   "cell_type": "code",
   "execution_count": 319,
   "metadata": {
    "collapsed": false
   },
   "outputs": [
    {
     "data": {
      "text/plain": [
       "<matplotlib.axes._subplots.AxesSubplot at 0x1a0a30f0>"
      ]
     },
     "execution_count": 319,
     "metadata": {},
     "output_type": "execute_result"
    },
    {
     "data": {
      "image/png": "[encoded data removed]",
      "text/plain": [
       "<matplotlib.figure.Figure at 0x19e69240>"
      ]
     },
     "metadata": {},
     "output_type": "display_data"
    }
   ],
   "source": [
    "fig, ax = plt.subplots(1,1, figsize=(10, 6))\n",
    "ax.set_title('Mean number of days between scheduling date and appointment date vs hour of the day appointment was scheduled')\n",
    "sns.barplot(x='scheduledday_hour', y='date_diff', data=df)"
   ]
  },
  {
   "cell_type": "markdown",
   "metadata": {},
   "source": [
    "#### Month Scheduled"
   ]
  },
  {
   "cell_type": "code",
   "execution_count": 320,
   "metadata": {
    "collapsed": false
   },
   "outputs": [
    {
     "data": {
      "image/png": "[encoded data removed]",
      "text/plain": [
       "<matplotlib.figure.Figure at 0x1a061470>"
      ]
     },
     "metadata": {},
     "output_type": "display_data"
    }
   ],
   "source": [
    "plotCountNoShow(df, 'scheduledday_month')"
   ]
  },
  {
   "cell_type": "markdown",
   "metadata": {},
   "source": [
    "We can see that the month when the appointment was scheduled seems to be associated with the no show rate. However, as shown below, this is likely not due to anything about the months themselves but rather because the dataset only contains appointments for April-June 2016, If an appointment was scheduled in November or December, it neccesarily has a larger value of date_diff, which we've found to be associated with no_show rate. "
   ]
  },
  {
   "cell_type": "code",
   "execution_count": 321,
   "metadata": {
    "collapsed": false
   },
   "outputs": [
    {
     "data": {
      "text/plain": [
       "<matplotlib.axes._subplots.AxesSubplot at 0x1f587080>"
      ]
     },
     "execution_count": 321,
     "metadata": {},
     "output_type": "execute_result"
    },
    {
     "data": {
      "image/png": "[encoded data removed]",
      "text/plain": [
       "<matplotlib.figure.Figure at 0x1f544c50>"
      ]
     },
     "metadata": {},
     "output_type": "display_data"
    }
   ],
   "source": [
    "fig, ax = plt.subplots(1,1, figsize=(10, 6))\n",
    "ax.set_title('Mean number of days between scheduling date and appointment date vs month the appointment was scheduled')\n",
    "sns.barplot(x='scheduledday_month', y='date_diff', data=df)"
   ]
  },
  {
   "cell_type": "markdown",
   "metadata": {},
   "source": [
    "### Patient Characteristics"
   ]
  },
  {
   "cell_type": "markdown",
   "metadata": {},
   "source": [
    "#### Number of previous no shows of patient"
   ]
  },
  {
   "cell_type": "code",
   "execution_count": 322,
   "metadata": {
    "collapsed": false
   },
   "outputs": [
    {
     "data": {
      "text/plain": [
       "<matplotlib.axes._subplots.AxesSubplot at 0x1f7a2630>"
      ]
     },
     "execution_count": 322,
     "metadata": {},
     "output_type": "execute_result"
    },
    {
     "data": {
      "image/png": "[encoded data removed]",
      "text/plain": [
       "<matplotlib.figure.Figure at 0x1f523eb8>"
      ]
     },
     "metadata": {},
     "output_type": "display_data"
    }
   ],
   "source": [
    "df.groupby('patientid').size().hist(bins=80)"
   ]
  },
  {
   "cell_type": "code",
   "execution_count": 323,
   "metadata": {
    "collapsed": false
   },
   "outputs": [
    {
     "data": {
      "text/plain": [
       "0.22057053932523274"
      ]
     },
     "execution_count": 323,
     "metadata": {},
     "output_type": "execute_result"
    }
   ],
   "source": [
    "(df.groupby('patientid').size() > 1).sum() / len(df)"
   ]
  },
  {
   "cell_type": "markdown",
   "metadata": {},
   "source": [
    "Only 22% of patients have more than one appointment in the database."
   ]
  },
  {
   "cell_type": "markdown",
   "metadata": {},
   "source": [
    "We'll create a new variable -- the previous number of times a patients has been a no show.\n",
    "\n",
    "First, we'll sort the df by appointment date."
   ]
  },
  {
   "cell_type": "code",
   "execution_count": 25,
   "metadata": {
    "collapsed": true
   },
   "outputs": [],
   "source": [
    "df = df.sort_values('appointmentday')"
   ]
  },
  {
   "cell_type": "code",
   "execution_count": 26,
   "metadata": {
    "collapsed": false
   },
   "outputs": [
    {
     "name": "stdout",
     "output_type": "stream",
     "text": [
      "0       2016-04-29T00:00:00Z\n",
      "2151    2016-04-29T00:00:00Z\n",
      "2152    2016-04-29T00:00:00Z\n",
      "2153    2016-04-29T00:00:00Z\n",
      "2154    2016-04-29T00:00:00Z\n",
      "Name: appointmentday, dtype: object\n"
     ]
    },
    {
     "data": {
      "text/plain": [
       "92055    2016-06-08T00:00:00Z\n",
       "99217    2016-06-08T00:00:00Z\n",
       "99218    2016-06-08T00:00:00Z\n",
       "99224    2016-06-08T00:00:00Z\n",
       "91900    2016-06-08T00:00:00Z\n",
       "Name: appointmentday, dtype: object"
      ]
     },
     "execution_count": 26,
     "metadata": {},
     "output_type": "execute_result"
    }
   ],
   "source": [
    "print(df.appointmentday.head()) \n",
    "df.appointmentday.tail()"
   ]
  },
  {
   "cell_type": "markdown",
   "metadata": {},
   "source": [
    "Now we group by patient and get the cummulative sum of no shows."
   ]
  },
  {
   "cell_type": "markdown",
   "metadata": {},
   "source": [
    "df2 = df.copy()\n",
    "i=0\n",
    "for pid in df.patientid.unique():\n",
    "    i+=1\n",
    "    df2.loc[df2.patientid == pid, 'prev_no_show'] = df2.loc[df2.patientid == pid, 'no_show'].cumsum()\n",
    "    if (i % 1000) == 0:\n",
    "        break\n",
    "        #print(break)"
   ]
  },
  {
   "cell_type": "code",
   "execution_count": 28,
   "metadata": {
    "collapsed": true
   },
   "outputs": [],
   "source": [
    "prev = df2.loc[df2.prev_no_show > 1, ['patientid', 'appointmentday', 'no_show', 'prev_no_show']]"
   ]
  },
  {
   "cell_type": "code",
   "execution_count": 29,
   "metadata": {
    "collapsed": false
   },
   "outputs": [
    {
     "data": {
      "text/plain": [
       "{'1319934846369': Int64Index([70434, 70437], dtype='int64'),\n",
       " '13621981994': Int64Index([101281], dtype='int64'),\n",
       " '14479974122994': Int64Index([ 31611,  31566,   8539,   7732,   7281,  40549,   7607,  40555,\n",
       "              40520,   8599, 103508,  91655, 109190],\n",
       "            dtype='int64'),\n",
       " '1484143378533': Int64Index([ 21896,  52312,  21812,  13841,  21872,  21931,  21866,  13851,\n",
       "              21897,  21813,  13842,  21868,  21924,  13852,  21867,  21898,\n",
       "              21869,  13843,  21925,  21814,  13844,  21870, 104461, 104482,\n",
       "             106964, 104473, 104495, 104481],\n",
       "            dtype='int64'),\n",
       " '152956753634': Int64Index([2337, 14125, 14122, 14026], dtype='int64'),\n",
       " '15449998579899': Int64Index([52486, 15407, 5916, 5796, 109352], dtype='int64'),\n",
       " '157338325497434': Int64Index([24458], dtype='int64'),\n",
       " '17527165431271': Int64Index([11026, 17899, 32777], dtype='int64'),\n",
       " '17798942295934': Int64Index([104489, 106421, 96804, 94274, 96789], dtype='int64'),\n",
       " '18648912753713': Int64Index([48387, 48380], dtype='int64'),\n",
       " '188232341789524': Int64Index([109145], dtype='int64'),\n",
       " '189282433632396': Int64Index([60706], dtype='int64'),\n",
       " '192628897388975': Int64Index([30322], dtype='int64'),\n",
       " '19293641798269': Int64Index([36943, 36917], dtype='int64'),\n",
       " '1962793424617': Int64Index([25843, 55925, 59630, 16096], dtype='int64'),\n",
       " '198281184586667': Int64Index([105992], dtype='int64'),\n",
       " '21433455149932': Int64Index([179], dtype='int64'),\n",
       " '2187756745416': Int64Index([103475], dtype='int64'),\n",
       " '219326659495843': Int64Index([15425], dtype='int64'),\n",
       " '224368413972153': Int64Index([101248, 108864, 108870], dtype='int64'),\n",
       " '226766421255': Int64Index([49514, 108171], dtype='int64'),\n",
       " '23178146293734': Int64Index([2249, 22916], dtype='int64'),\n",
       " '238716657726437': Int64Index([59467, 17949, 25826, 55909, 59626, 103840], dtype='int64'),\n",
       " '24228269335882': Int64Index([21838, 47964, 47925, 96784], dtype='int64'),\n",
       " '245283137241886': Int64Index([35264, 27567, 102705], dtype='int64'),\n",
       " '255724399778': Int64Index([67045, 67040], dtype='int64'),\n",
       " '25928213236984': Int64Index([74522, 11941], dtype='int64'),\n",
       " '259925618188': Int64Index([2110, 25633, 25629, 25630, 25631, 25635, 103474, 103470], dtype='int64'),\n",
       " '2616695597419': Int64Index([15876, 19659, 19597, 15877, 36228, 106387, 106416, 106417], dtype='int64'),\n",
       " '26431412328135': Int64Index([77014], dtype='int64'),\n",
       " '26588244157434': Int64Index([104376, 104403, 104389], dtype='int64'),\n",
       " '273181632622175': Int64Index([100877], dtype='int64'),\n",
       " '274726472366828': Int64Index([29483], dtype='int64'),\n",
       " '28532485743924': Int64Index([21841, 47957, 47921, 96786, 104487, 96787], dtype='int64'),\n",
       " '2863517458463': Int64Index([103488], dtype='int64'),\n",
       " '28832852229321': Int64Index([1741, 31718], dtype='int64'),\n",
       " '2893213929565': Int64Index([55924, 59629, 93406, 106259], dtype='int64'),\n",
       " '294647396191262': Int64Index([17595, 25335, 25333, 105755, 103559], dtype='int64'),\n",
       " '31359178796118': Int64Index([10803, 82495, 52470, 52441, 10804, 52471, 52442, 52443, 95556,\n",
       "             95565],\n",
       "            dtype='int64'),\n",
       " '31567938888819': Int64Index([10845], dtype='int64'),\n",
       " '32349982176613': Int64Index([53038], dtype='int64'),\n",
       " '3366512487262': Int64Index([22274, 22304, 22239, 22275, 22305], dtype='int64'),\n",
       " '338493115647194': Int64Index([47942, 11055, 11051, 11211, 11207, 11154, 11162], dtype='int64'),\n",
       " '339798493724936': Int64Index([24643, 105640], dtype='int64'),\n",
       " '344595223278783': Int64Index([34167], dtype='int64'),\n",
       " '357499847153872': Int64Index([102403], dtype='int64'),\n",
       " '36994987339512': Int64Index([103511, 107992], dtype='int64'),\n",
       " '38962632722': Int64Index([2187, 76622, 104099, 91128], dtype='int64'),\n",
       " '3939987912392': Int64Index([58802, 58790], dtype='int64'),\n",
       " '41213119967564': Int64Index([98174], dtype='int64'),\n",
       " '41621196313551': Int64Index([30624], dtype='int64'),\n",
       " '416755661551767': Int64Index([  7760,   7639,   7670,   8868,  40562,  25508,   8696,  35647,\n",
       "              25479,   7687,  40532,   7492,   8801,   7289,  40550,   7623,\n",
       "              25493,  40560,  25407,   7118,   7388,  40546,  40551, 103531],\n",
       "            dtype='int64'),\n",
       " '41828445181455': Int64Index([6507, 18702, 109630, 105392], dtype='int64'),\n",
       " '419742623143214': Int64Index([88943], dtype='int64'),\n",
       " '42496524612524': Int64Index([41595, 19649, 19581, 27712, 19616, 19650, 19582, 19617, 29335,\n",
       "             9568],\n",
       "            dtype='int64'),\n",
       " '426575716816': Int64Index([103967], dtype='int64'),\n",
       " '426683784613': Int64Index([2365], dtype='int64'),\n",
       " '43254452912441': Int64Index([36771, 36769], dtype='int64'),\n",
       " '452823135724': Int64Index([16056], dtype='int64'),\n",
       " '45555578626': Int64Index([10275], dtype='int64'),\n",
       " '46811758419579': Int64Index([63762, 5934], dtype='int64'),\n",
       " '477586241395': Int64Index([75005, 75001, 10364], dtype='int64'),\n",
       " '478821675771258': Int64Index([1131], dtype='int64'),\n",
       " '4792237534428': Int64Index([56400], dtype='int64'),\n",
       " '4816993914823': Int64Index([7094, 8413], dtype='int64'),\n",
       " '486255916558': Int64Index([106570, 93637], dtype='int64'),\n",
       " '4895994881756': Int64Index([7477, 46155], dtype='int64'),\n",
       " '4916355941566': Int64Index([1775, 553, 554, 30990], dtype='int64'),\n",
       " '4951114922962': Int64Index([98056], dtype='int64'),\n",
       " '49559535459818': Int64Index([60694, 40986], dtype='int64'),\n",
       " '49624843629689': Int64Index([33482], dtype='int64'),\n",
       " '528942839689768': Int64Index([32197], dtype='int64'),\n",
       " '53242522971462': Int64Index([41361], dtype='int64'),\n",
       " '533423496513966': Int64Index([1892, 29534, 29535], dtype='int64'),\n",
       " '5355754444114': Int64Index([75044], dtype='int64'),\n",
       " '54541787858484': Int64Index([2096], dtype='int64'),\n",
       " '54898176217564': Int64Index([19529, 105201], dtype='int64'),\n",
       " '54953999219745': Int64Index([7248, 7375, 7355, 80706], dtype='int64'),\n",
       " '5496197657515': Int64Index([37029], dtype='int64'),\n",
       " '552871626128': Int64Index([21917, 21796, 19826, 104464], dtype='int64'),\n",
       " '5559817122364': Int64Index([25840, 55922, 59637, 34656, 34631, 24321, 34639, 100691], dtype='int64'),\n",
       " '5579674796987': Int64Index([29373], dtype='int64'),\n",
       " '56548277857': Int64Index([668, 24747, 34190], dtype='int64'),\n",
       " '574655892623669': Int64Index([47982, 41739, 104833], dtype='int64'),\n",
       " '575588715118716': Int64Index([32536, 101386], dtype='int64'),\n",
       " '579448128831': Int64Index([104393], dtype='int64'),\n",
       " '579922557316928': Int64Index([12877], dtype='int64'),\n",
       " '59356593744446': Int64Index([16868, 105747], dtype='int64'),\n",
       " '593653635935933': Int64Index([98008], dtype='int64'),\n",
       " '59446668388232': Int64Index([56343], dtype='int64'),\n",
       " '6183351965442': Int64Index([76541, 76715, 84806], dtype='int64'),\n",
       " '631278478347': Int64Index([74978], dtype='int64'),\n",
       " '632388128845': Int64Index([10638], dtype='int64'),\n",
       " '633883673279982': Int64Index([36930, 11215, 3459, 110452], dtype='int64'),\n",
       " '64329288796396': Int64Index([63823], dtype='int64'),\n",
       " '66217136229977': Int64Index([23755], dtype='int64'),\n",
       " '687232758489252': Int64Index([1884, 5727, 28936, 108465], dtype='int64'),\n",
       " '72636477999278': Int64Index([2926, 11252], dtype='int64'),\n",
       " '7317142324454': Int64Index([74451], dtype='int64'),\n",
       " '74971757786834': Int64Index([74853, 26536, 74926], dtype='int64'),\n",
       " '749991479282752': Int64Index([21268], dtype='int64'),\n",
       " '7527599456291': Int64Index([68052, 103281, 101036], dtype='int64'),\n",
       " '76169349669454': Int64Index([2918], dtype='int64'),\n",
       " '76615554254988': Int64Index([103988, 100631, 93862], dtype='int64'),\n",
       " '81144547693438': Int64Index([5103], dtype='int64'),\n",
       " '81213966782532': Int64Index([8425, 8837, 40557, 7826, 40506, 8712, 40525, 98818, 98849], dtype='int64'),\n",
       " '814948798483782': Int64Index([7208, 8424, 7209], dtype='int64'),\n",
       " '816639371919': Int64Index([18685, 10285, 30795], dtype='int64'),\n",
       " '82435944371663': Int64Index([22292, 22223], dtype='int64'),\n",
       " '834798139251': Int64Index([ 22282,  62488,  22307,  22243,  22283,  22308,  22284,  22244,\n",
       "             104382, 104374, 104401, 104383],\n",
       "            dtype='int64'),\n",
       " '838284762259': Int64Index([16924, 3590, 3715, 3718, 3728, 3658, 110400], dtype='int64'),\n",
       " '8458212237956': Int64Index([32462], dtype='int64'),\n",
       " '849985582638517': Int64Index([  1940,   7350,  46154,   7374,  18951,  18758,   7362,   7303,\n",
       "               7304,  18932,  18936, 109176,  97269, 105411, 109164],\n",
       "            dtype='int64'),\n",
       " '856482512379182': Int64Index([18984], dtype='int64'),\n",
       " '8718256119181': Int64Index([101006], dtype='int64'),\n",
       " '8882379177674': Int64Index([27952], dtype='int64'),\n",
       " '8955138912142': Int64Index([20095, 49334, 105026, 101240], dtype='int64'),\n",
       " '8986883641367': Int64Index([29747], dtype='int64'),\n",
       " '9127149332663': Int64Index([26678], dtype='int64'),\n",
       " '9142136135193': Int64Index([12538], dtype='int64'),\n",
       " '9168421892178': Int64Index([24796], dtype='int64'),\n",
       " '9245427621152': Int64Index([59700, 19365, 107900], dtype='int64'),\n",
       " '92622715145682': Int64Index([8291, 8372, 71887, 7276, 71862, 5760, 109277], dtype='int64'),\n",
       " '933975641241': Int64Index([44338], dtype='int64'),\n",
       " '944424289296': Int64Index([55914, 59631, 34408, 34290], dtype='int64'),\n",
       " '9471394431828': Int64Index([17871, 100969, 100970], dtype='int64'),\n",
       " '9491857372372': Int64Index([669, 41718, 52677, 24641, 59613, 34283, 106256], dtype='int64'),\n",
       " '95292445811': Int64Index([11128], dtype='int64'),\n",
       " '9594139896813': Int64Index([37052, 37057], dtype='int64'),\n",
       " '96235828536713': Int64Index([101058, 101059], dtype='int64'),\n",
       " '963421817589': Int64Index([25357], dtype='int64'),\n",
       " '9658254326952': Int64Index([30272, 30317, 30321, 36978, 30224, 101891, 101859, 101906], dtype='int64'),\n",
       " '977591618532826': Int64Index([24999, 39331, 103642], dtype='int64'),\n",
       " '9919387492696': Int64Index([24884], dtype='int64'),\n",
       " '997225572527538': Int64Index([22225, 22265, 22294, 56653, 54150], dtype='int64'),\n",
       " '999271869247': Int64Index([3661], dtype='int64'),\n",
       " '9999951146446': Int64Index([31366], dtype='int64')}"
      ]
     },
     "execution_count": 29,
     "metadata": {},
     "output_type": "execute_result"
    }
   ],
   "source": [
    "gp = prev.groupby('patientid')\n",
    "gp.groups"
   ]
  },
  {
   "cell_type": "code",
   "execution_count": 33,
   "metadata": {
    "collapsed": false
   },
   "outputs": [
    {
     "data": {
      "text/html": [
       "<div>\n",
       "<style>\n",
       "    .dataframe thead tr:only-child th {\n",
       "        text-align: right;\n",
       "    }\n",
       "\n",
       "    .dataframe thead th {\n",
       "        text-align: left;\n",
       "    }\n",
       "\n",
       "    .dataframe tbody tr th {\n",
       "        vertical-align: top;\n",
       "    }\n",
       "</style>\n",
       "<table border=\"1\" class=\"dataframe\">\n",
       "  <thead>\n",
       "    <tr style=\"text-align: right;\">\n",
       "      <th></th>\n",
       "      <th>patientid</th>\n",
       "      <th>appointmentday</th>\n",
       "      <th>no_show</th>\n",
       "      <th>prev_no_show</th>\n",
       "    </tr>\n",
       "  </thead>\n",
       "  <tbody>\n",
       "    <tr>\n",
       "      <th>2110</th>\n",
       "      <td>259925618188</td>\n",
       "      <td>2016-04-29T00:00:00Z</td>\n",
       "      <td>1</td>\n",
       "      <td>2.0</td>\n",
       "    </tr>\n",
       "    <tr>\n",
       "      <th>25633</th>\n",
       "      <td>259925618188</td>\n",
       "      <td>2016-05-04T00:00:00Z</td>\n",
       "      <td>1</td>\n",
       "      <td>3.0</td>\n",
       "    </tr>\n",
       "    <tr>\n",
       "      <th>25629</th>\n",
       "      <td>259925618188</td>\n",
       "      <td>2016-05-04T00:00:00Z</td>\n",
       "      <td>1</td>\n",
       "      <td>4.0</td>\n",
       "    </tr>\n",
       "    <tr>\n",
       "      <th>25630</th>\n",
       "      <td>259925618188</td>\n",
       "      <td>2016-05-11T00:00:00Z</td>\n",
       "      <td>0</td>\n",
       "      <td>4.0</td>\n",
       "    </tr>\n",
       "    <tr>\n",
       "      <th>25631</th>\n",
       "      <td>259925618188</td>\n",
       "      <td>2016-05-25T00:00:00Z</td>\n",
       "      <td>1</td>\n",
       "      <td>5.0</td>\n",
       "    </tr>\n",
       "    <tr>\n",
       "      <th>25635</th>\n",
       "      <td>259925618188</td>\n",
       "      <td>2016-05-25T00:00:00Z</td>\n",
       "      <td>1</td>\n",
       "      <td>6.0</td>\n",
       "    </tr>\n",
       "    <tr>\n",
       "      <th>103474</th>\n",
       "      <td>259925618188</td>\n",
       "      <td>2016-06-08T00:00:00Z</td>\n",
       "      <td>0</td>\n",
       "      <td>6.0</td>\n",
       "    </tr>\n",
       "    <tr>\n",
       "      <th>103470</th>\n",
       "      <td>259925618188</td>\n",
       "      <td>2016-06-08T00:00:00Z</td>\n",
       "      <td>0</td>\n",
       "      <td>6.0</td>\n",
       "    </tr>\n",
       "  </tbody>\n",
       "</table>\n",
       "</div>"
      ],
      "text/plain": [
       "           patientid        appointmentday  no_show  prev_no_show\n",
       "2110    259925618188  2016-04-29T00:00:00Z        1           2.0\n",
       "25633   259925618188  2016-05-04T00:00:00Z        1           3.0\n",
       "25629   259925618188  2016-05-04T00:00:00Z        1           4.0\n",
       "25630   259925618188  2016-05-11T00:00:00Z        0           4.0\n",
       "25631   259925618188  2016-05-25T00:00:00Z        1           5.0\n",
       "25635   259925618188  2016-05-25T00:00:00Z        1           6.0\n",
       "103474  259925618188  2016-06-08T00:00:00Z        0           6.0\n",
       "103470  259925618188  2016-06-08T00:00:00Z        0           6.0"
      ]
     },
     "execution_count": 33,
     "metadata": {},
     "output_type": "execute_result"
    }
   ],
   "source": [
    "gp.get_group('259925618188').sort_values('appointmentday')"
   ]
  },
  {
   "cell_type": "code",
   "execution_count": 346,
   "metadata": {
    "collapsed": false
   },
   "outputs": [
    {
     "data": {
      "text/html": [
       "<div>\n",
       "<style>\n",
       "    .dataframe thead tr:only-child th {\n",
       "        text-align: right;\n",
       "    }\n",
       "\n",
       "    .dataframe thead th {\n",
       "        text-align: left;\n",
       "    }\n",
       "\n",
       "    .dataframe tbody tr th {\n",
       "        vertical-align: top;\n",
       "    }\n",
       "</style>\n",
       "<table border=\"1\" class=\"dataframe\">\n",
       "  <thead>\n",
       "    <tr style=\"text-align: right;\">\n",
       "      <th></th>\n",
       "      <th>appointmentday</th>\n",
       "      <th>no_show</th>\n",
       "      <th>prev_no_s</th>\n",
       "    </tr>\n",
       "  </thead>\n",
       "  <tbody>\n",
       "    <tr>\n",
       "      <th>2188</th>\n",
       "      <td>2016-04-29</td>\n",
       "      <td>1</td>\n",
       "      <td>0.0</td>\n",
       "    </tr>\n",
       "    <tr>\n",
       "      <th>2187</th>\n",
       "      <td>2016-04-29</td>\n",
       "      <td>1</td>\n",
       "      <td>1.0</td>\n",
       "    </tr>\n",
       "    <tr>\n",
       "      <th>76622</th>\n",
       "      <td>2016-05-02</td>\n",
       "      <td>0</td>\n",
       "      <td>2.0</td>\n",
       "    </tr>\n",
       "    <tr>\n",
       "      <th>104099</th>\n",
       "      <td>2016-06-01</td>\n",
       "      <td>0</td>\n",
       "      <td>2.0</td>\n",
       "    </tr>\n",
       "    <tr>\n",
       "      <th>91128</th>\n",
       "      <td>2016-06-03</td>\n",
       "      <td>1</td>\n",
       "      <td>2.0</td>\n",
       "    </tr>\n",
       "  </tbody>\n",
       "</table>\n",
       "</div>"
      ],
      "text/plain": [
       "       appointmentday  no_show  prev_no_s\n",
       "2188       2016-04-29        1        0.0\n",
       "2187       2016-04-29        1        1.0\n",
       "76622      2016-05-02        0        2.0\n",
       "104099     2016-06-01        0        2.0\n",
       "91128      2016-06-03        1        2.0"
      ]
     },
     "execution_count": 346,
     "metadata": {},
     "output_type": "execute_result"
    }
   ],
   "source": [
    "df2[df2.patientid == '38962632722'][['appointmentday', 'no_show', 'prev_no_s']]"
   ]
  },
  {
   "cell_type": "code",
   "execution_count": 334,
   "metadata": {
    "collapsed": true
   },
   "outputs": [],
   "source": [
    "#df2.to_csv('no_show_prev_raw.csv')"
   ]
  },
  {
   "cell_type": "markdown",
   "metadata": {},
   "source": [
    "Because np.cumsum includes the value of the current row in the cummulative sum, we need to adjust our value down by one to offset that."
   ]
  },
  {
   "cell_type": "code",
   "execution_count": 336,
   "metadata": {
    "collapsed": false
   },
   "outputs": [
    {
     "data": {
      "text/plain": [
       "110527"
      ]
     },
     "execution_count": 336,
     "metadata": {},
     "output_type": "execute_result"
    }
   ],
   "source": [
    "def adjPrevNoShow(x):\n",
    "    return x.prev_no_s - 1 if x.no_show == 1 else x.prev_no_s\n",
    "\n",
    "df2['prev_no_s'] = df2.apply(adjPrevNoShow, axis=1)\n",
    "\n",
    "len(df)"
   ]
  },
  {
   "cell_type": "code",
   "execution_count": 347,
   "metadata": {
    "collapsed": false
   },
   "outputs": [
    {
     "data": {
      "text/html": [
       "<div>\n",
       "<style>\n",
       "    .dataframe thead tr:only-child th {\n",
       "        text-align: right;\n",
       "    }\n",
       "\n",
       "    .dataframe thead th {\n",
       "        text-align: left;\n",
       "    }\n",
       "\n",
       "    .dataframe tbody tr th {\n",
       "        vertical-align: top;\n",
       "    }\n",
       "</style>\n",
       "<table border=\"1\" class=\"dataframe\">\n",
       "  <thead>\n",
       "    <tr style=\"text-align: right;\">\n",
       "      <th></th>\n",
       "      <th>appointmentday</th>\n",
       "      <th>no_show</th>\n",
       "      <th>prev_no_s</th>\n",
       "    </tr>\n",
       "  </thead>\n",
       "  <tbody>\n",
       "    <tr>\n",
       "      <th>53205</th>\n",
       "      <td>2016-05-04</td>\n",
       "      <td>1</td>\n",
       "      <td>0.0</td>\n",
       "    </tr>\n",
       "    <tr>\n",
       "      <th>53319</th>\n",
       "      <td>2016-05-04</td>\n",
       "      <td>1</td>\n",
       "      <td>1.0</td>\n",
       "    </tr>\n",
       "    <tr>\n",
       "      <th>53253</th>\n",
       "      <td>2016-05-04</td>\n",
       "      <td>0</td>\n",
       "      <td>2.0</td>\n",
       "    </tr>\n",
       "    <tr>\n",
       "      <th>53405</th>\n",
       "      <td>2016-05-04</td>\n",
       "      <td>1</td>\n",
       "      <td>2.0</td>\n",
       "    </tr>\n",
       "    <tr>\n",
       "      <th>53416</th>\n",
       "      <td>2016-05-04</td>\n",
       "      <td>1</td>\n",
       "      <td>3.0</td>\n",
       "    </tr>\n",
       "    <tr>\n",
       "      <th>70938</th>\n",
       "      <td>2016-05-04</td>\n",
       "      <td>1</td>\n",
       "      <td>4.0</td>\n",
       "    </tr>\n",
       "    <tr>\n",
       "      <th>53195</th>\n",
       "      <td>2016-05-09</td>\n",
       "      <td>0</td>\n",
       "      <td>5.0</td>\n",
       "    </tr>\n",
       "    <tr>\n",
       "      <th>53197</th>\n",
       "      <td>2016-05-10</td>\n",
       "      <td>0</td>\n",
       "      <td>5.0</td>\n",
       "    </tr>\n",
       "    <tr>\n",
       "      <th>70919</th>\n",
       "      <td>2016-05-11</td>\n",
       "      <td>1</td>\n",
       "      <td>5.0</td>\n",
       "    </tr>\n",
       "    <tr>\n",
       "      <th>53417</th>\n",
       "      <td>2016-05-11</td>\n",
       "      <td>1</td>\n",
       "      <td>6.0</td>\n",
       "    </tr>\n",
       "    <tr>\n",
       "      <th>53392</th>\n",
       "      <td>2016-05-11</td>\n",
       "      <td>1</td>\n",
       "      <td>7.0</td>\n",
       "    </tr>\n",
       "    <tr>\n",
       "      <th>53211</th>\n",
       "      <td>2016-05-11</td>\n",
       "      <td>1</td>\n",
       "      <td>8.0</td>\n",
       "    </tr>\n",
       "    <tr>\n",
       "      <th>70899</th>\n",
       "      <td>2016-05-17</td>\n",
       "      <td>0</td>\n",
       "      <td>9.0</td>\n",
       "    </tr>\n",
       "    <tr>\n",
       "      <th>53391</th>\n",
       "      <td>2016-05-25</td>\n",
       "      <td>1</td>\n",
       "      <td>9.0</td>\n",
       "    </tr>\n",
       "    <tr>\n",
       "      <th>70907</th>\n",
       "      <td>2016-05-25</td>\n",
       "      <td>1</td>\n",
       "      <td>10.0</td>\n",
       "    </tr>\n",
       "    <tr>\n",
       "      <th>90520</th>\n",
       "      <td>2016-06-01</td>\n",
       "      <td>0</td>\n",
       "      <td>11.0</td>\n",
       "    </tr>\n",
       "    <tr>\n",
       "      <th>95268</th>\n",
       "      <td>2016-06-01</td>\n",
       "      <td>0</td>\n",
       "      <td>11.0</td>\n",
       "    </tr>\n",
       "    <tr>\n",
       "      <th>95274</th>\n",
       "      <td>2016-06-01</td>\n",
       "      <td>0</td>\n",
       "      <td>11.0</td>\n",
       "    </tr>\n",
       "    <tr>\n",
       "      <th>95348</th>\n",
       "      <td>2016-06-01</td>\n",
       "      <td>0</td>\n",
       "      <td>11.0</td>\n",
       "    </tr>\n",
       "    <tr>\n",
       "      <th>95295</th>\n",
       "      <td>2016-06-01</td>\n",
       "      <td>0</td>\n",
       "      <td>11.0</td>\n",
       "    </tr>\n",
       "    <tr>\n",
       "      <th>95300</th>\n",
       "      <td>2016-06-08</td>\n",
       "      <td>0</td>\n",
       "      <td>11.0</td>\n",
       "    </tr>\n",
       "    <tr>\n",
       "      <th>95343</th>\n",
       "      <td>2016-06-08</td>\n",
       "      <td>0</td>\n",
       "      <td>11.0</td>\n",
       "    </tr>\n",
       "    <tr>\n",
       "      <th>90536</th>\n",
       "      <td>2016-06-08</td>\n",
       "      <td>1</td>\n",
       "      <td>11.0</td>\n",
       "    </tr>\n",
       "  </tbody>\n",
       "</table>\n",
       "</div>"
      ],
      "text/plain": [
       "      appointmentday  no_show  prev_no_s\n",
       "53205     2016-05-04        1        0.0\n",
       "53319     2016-05-04        1        1.0\n",
       "53253     2016-05-04        0        2.0\n",
       "53405     2016-05-04        1        2.0\n",
       "53416     2016-05-04        1        3.0\n",
       "70938     2016-05-04        1        4.0\n",
       "53195     2016-05-09        0        5.0\n",
       "53197     2016-05-10        0        5.0\n",
       "70919     2016-05-11        1        5.0\n",
       "53417     2016-05-11        1        6.0\n",
       "53392     2016-05-11        1        7.0\n",
       "53211     2016-05-11        1        8.0\n",
       "70899     2016-05-17        0        9.0\n",
       "53391     2016-05-25        1        9.0\n",
       "70907     2016-05-25        1       10.0\n",
       "90520     2016-06-01        0       11.0\n",
       "95268     2016-06-01        0       11.0\n",
       "95274     2016-06-01        0       11.0\n",
       "95348     2016-06-01        0       11.0\n",
       "95295     2016-06-01        0       11.0\n",
       "95300     2016-06-08        0       11.0\n",
       "95343     2016-06-08        0       11.0\n",
       "90536     2016-06-08        1       11.0"
      ]
     },
     "execution_count": 347,
     "metadata": {},
     "output_type": "execute_result"
    }
   ],
   "source": [
    "df2.loc[df.patientid == '1198157171975', ['appointmentday','no_show', 'prev_no_s']]"
   ]
  },
  {
   "cell_type": "code",
   "execution_count": 354,
   "metadata": {
    "collapsed": true
   },
   "outputs": [],
   "source": [
    "df2.to_csv('no_show_prev_adj.csv', encoding='utf-8', index=True)"
   ]
  },
  {
   "cell_type": "code",
   "execution_count": 353,
   "metadata": {
    "collapsed": true
   },
   "outputs": [],
   "source": [
    "df2.to_csv?"
   ]
  },
  {
   "cell_type": "code",
   "execution_count": 344,
   "metadata": {
    "collapsed": false
   },
   "outputs": [
    {
     "data": {
      "text/plain": [
       "prev_no_s\n",
       "0.0     0.186087\n",
       "1.0     0.278969\n",
       "2.0     0.308869\n",
       "3.0     0.367758\n",
       "4.0     0.431894\n",
       "5.0     0.525547\n",
       "6.0     0.541667\n",
       "7.0     0.764706\n",
       "8.0     0.566667\n",
       "9.0     0.700000\n",
       "10.0    0.833333\n",
       "11.0    0.461538\n",
       "12.0    1.000000\n",
       "13.0    1.000000\n",
       "14.0    1.000000\n",
       "15.0    1.000000\n",
       "16.0    1.000000\n",
       "17.0    1.000000\n",
       "Name: no_show, dtype: float64"
      ]
     },
     "execution_count": 344,
     "metadata": {},
     "output_type": "execute_result"
    }
   ],
   "source": [
    "df2.groupby('prev_no_s').no_show.mean()"
   ]
  },
  {
   "cell_type": "code",
   "execution_count": 343,
   "metadata": {
    "collapsed": false
   },
   "outputs": [
    {
     "data": {
      "text/plain": [
       "no_show\n",
       "0    0.169803\n",
       "1    0.343161\n",
       "Name: prev_no_s, dtype: float64"
      ]
     },
     "execution_count": 343,
     "metadata": {},
     "output_type": "execute_result"
    }
   ],
   "source": [
    "df2.groupby('no_show').prev_no_s.mean()"
   ]
  },
  {
   "cell_type": "code",
   "execution_count": 40,
   "metadata": {
    "collapsed": false
   },
   "outputs": [
    {
     "data": {
      "text/plain": [
       "<matplotlib.axes._subplots.AxesSubplot at 0xe7b9748>"
      ]
     },
     "execution_count": 40,
     "metadata": {},
     "output_type": "execute_result"
    },
    {
     "data": {
      "image/png": "[encoded data removed]",
      "text/plain": [
       "<matplotlib.figure.Figure at 0xed24550>"
      ]
     },
     "metadata": {},
     "output_type": "display_data"
    }
   ],
   "source": [
    "sns.violinplot(x='no_show', y='prev_no_show', jitter=True, data=df)"
   ]
  },
  {
   "cell_type": "code",
   "execution_count": 41,
   "metadata": {
    "collapsed": false
   },
   "outputs": [
    {
     "data": {
      "text/plain": [
       "<matplotlib.axes._subplots.AxesSubplot at 0x1143fda0>"
      ]
     },
     "execution_count": 41,
     "metadata": {},
     "output_type": "execute_result"
    },
    {
     "data": {
      "image/png": "[encoded data removed]",
      "text/plain": [
       "<matplotlib.figure.Figure at 0x1149fcc0>"
      ]
     },
     "metadata": {},
     "output_type": "display_data"
    }
   ],
   "source": [
    "sns.countplot(df.groupby('patientid').no_show.sum())"
   ]
  },
  {
   "cell_type": "code",
   "execution_count": 42,
   "metadata": {
    "collapsed": false
   },
   "outputs": [
    {
     "data": {
      "text/plain": [
       "Index(['patientid', 'appointmentid', 'gender', 'scheduledday',\n",
       "       'appointmentday', 'age', 'neighbourhood', 'scholarship', 'hipertension',\n",
       "       'diabetes', 'alcoholism', 'handcap', 'sms_received', 'no_show',\n",
       "       'scheduledday_year', 'scheduledday_month', 'scheduledday_dow',\n",
       "       'appointmentday_year', 'appointmentday_month', 'appointmentday_dow',\n",
       "       'scheduledday_hour', 'date_diff', 'prev_no_show'],\n",
       "      dtype='object')"
      ]
     },
     "execution_count": 42,
     "metadata": {},
     "output_type": "execute_result"
    }
   ],
   "source": [
    "df.columns"
   ]
  },
  {
   "cell_type": "markdown",
   "metadata": {},
   "source": [
    "#### Gender"
   ]
  },
  {
   "cell_type": "code",
   "execution_count": 43,
   "metadata": {
    "collapsed": false
   },
   "outputs": [
    {
     "data": {
      "text/plain": [
       "<matplotlib.axes._subplots.AxesSubplot at 0x11444ac8>"
      ]
     },
     "execution_count": 43,
     "metadata": {},
     "output_type": "execute_result"
    },
    {
     "data": {
      "image/png": "[encoded data removed]",
      "text/plain": [
       "<matplotlib.figure.Figure at 0x119e37f0>"
      ]
     },
     "metadata": {},
     "output_type": "display_data"
    }
   ],
   "source": [
    "sns.countplot(df.gender)"
   ]
  },
  {
   "cell_type": "code",
   "execution_count": 44,
   "metadata": {
    "collapsed": false
   },
   "outputs": [
    {
     "data": {
      "text/plain": [
       "<matplotlib.axes._subplots.AxesSubplot at 0x119a5ef0>"
      ]
     },
     "execution_count": 44,
     "metadata": {},
     "output_type": "execute_result"
    },
    {
     "data": {
      "image/png": "[encoded data removed]",
      "text/plain": [
       "<matplotlib.figure.Figure at 0x11506b00>"
      ]
     },
     "metadata": {},
     "output_type": "display_data"
    }
   ],
   "source": [
    "sns.barplot(x='gender', y='no_show', data=df)"
   ]
  },
  {
   "cell_type": "markdown",
   "metadata": {},
   "source": [
    "We see a lot more appointments for women than men, but gender doesn't seem to make much of a difference on no shows."
   ]
  },
  {
   "cell_type": "markdown",
   "metadata": {},
   "source": [
    "#### Handicap"
   ]
  },
  {
   "cell_type": "markdown",
   "metadata": {},
   "source": [
    "The handicap column has 5 different levels. We aren't told what each level means, but a safe assumption may mean that 0 indicates no handicap. It's hard to draw too many conclusions, because there are so few cases for some of the levels of the variable."
   ]
  },
  {
   "cell_type": "code",
   "execution_count": 74,
   "metadata": {
    "collapsed": false
   },
   "outputs": [
    {
     "data": {
      "text/plain": [
       "<matplotlib.text.Text at 0x17093400>"
      ]
     },
     "execution_count": 74,
     "metadata": {},
     "output_type": "execute_result"
    },
    {
     "data": {
      "image/png": "[encoded data removed]",
      "text/plain": [
       "<matplotlib.figure.Figure at 0x16fa5748>"
      ]
     },
     "metadata": {},
     "output_type": "display_data"
    }
   ],
   "source": [
    "fig, axes = plt.subplots(1,2, figsize=(12, 6))\n",
    "axes = axes.flat\n",
    "sns.countplot(df.handcap, ax=axes[0])\n",
    "sns.barplot(x='handcap', y='no_show', data=df, ax=axes[1])\n",
    "axes[1].set_title('No show percentage by presence of handicap')\n"
   ]
  },
  {
   "cell_type": "markdown",
   "metadata": {},
   "source": [
    "#### Age"
   ]
  },
  {
   "cell_type": "code",
   "execution_count": 45,
   "metadata": {
    "collapsed": false
   },
   "outputs": [
    {
     "data": {
      "text/plain": [
       "<matplotlib.axes._subplots.AxesSubplot at 0x119cbfd0>"
      ]
     },
     "execution_count": 45,
     "metadata": {},
     "output_type": "execute_result"
    },
    {
     "data": {
      "image/png": "[encoded data removed]",
      "text/plain": [
       "<matplotlib.figure.Figure at 0x11b04320>"
      ]
     },
     "metadata": {},
     "output_type": "display_data"
    }
   ],
   "source": [
    "fig, ax = plt.subplots(1,1, figsize=(16, 6))\n",
    "sns.countplot(df.age, ax=ax)"
   ]
  },
  {
   "cell_type": "code",
   "execution_count": 46,
   "metadata": {
    "collapsed": false
   },
   "outputs": [
    {
     "data": {
      "text/plain": [
       "<matplotlib.text.Text at 0x12186860>"
      ]
     },
     "execution_count": 46,
     "metadata": {},
     "output_type": "execute_result"
    },
    {
     "data": {
      "image/png": "[encoded data removed]",
      "text/plain": [
       "<matplotlib.figure.Figure at 0x11bee710>"
      ]
     },
     "metadata": {},
     "output_type": "display_data"
    }
   ],
   "source": [
    "perc_no_show_age = df[df.age >=0].groupby('age').no_show.mean().reset_index()\n",
    "fig, ax = plt.subplots(1,1, figsize=(10, 6))\n",
    "sns.regplot(x='age', y='no_show',data=perc_no_show_age, ax=ax, fit_reg=False)\n",
    "ax.set_title('Percentage of no show appointments by patient age')"
   ]
  },
  {
   "cell_type": "markdown",
   "metadata": {},
   "source": [
    "Above, we see an interesting relationship between the age of the patient and the percentage of appointments resulting in a no show. The no show percentage starts low and rises to peak in the teenage years before falling again. The percentage begins to rise again around age 70, but we need to be careful interpreting that, as there are fewer appointments for patients above 70.\n",
    "\n",
    "There are a handful of features that seem to correspond to certain medical conditions, including hypertension, diabetes and alcoholism. We don't have specific guidance as to what these columns mean, but it's reasonable to assume that either the patient has been previously diagnosed with this condition or that the appointment has been set up to check on or treat the condition."
   ]
  },
  {
   "cell_type": "code",
   "execution_count": 47,
   "metadata": {
    "collapsed": false
   },
   "outputs": [
    {
     "data": {
      "text/plain": [
       "<matplotlib.text.Text at 0x11fc4dd8>"
      ]
     },
     "execution_count": 47,
     "metadata": {},
     "output_type": "execute_result"
    },
    {
     "data": {
      "image/png": "[encoded data removed]",
      "text/plain": [
       "<matplotlib.figure.Figure at 0x1209aac8>"
      ]
     },
     "metadata": {},
     "output_type": "display_data"
    }
   ],
   "source": [
    "fig, axes = plt.subplots(1,2, figsize=(12, 6))\n",
    "axes = axes.flat\n",
    "sns.countplot(df.hipertension, ax=axes[0])\n",
    "sns.barplot(x='hipertension', y='no_show', data=df, ax=axes[1])\n",
    "axes[1].set_title('No show percentage by presence of hypertension')\n"
   ]
  },
  {
   "cell_type": "code",
   "execution_count": 48,
   "metadata": {
    "collapsed": false
   },
   "outputs": [
    {
     "data": {
      "text/plain": [
       "<matplotlib.text.Text at 0x117df400>"
      ]
     },
     "execution_count": 48,
     "metadata": {},
     "output_type": "execute_result"
    },
    {
     "data": {
      "image/png": "[encoded data removed]",
      "text/plain": [
       "<matplotlib.figure.Figure at 0x11dab438>"
      ]
     },
     "metadata": {},
     "output_type": "display_data"
    }
   ],
   "source": [
    "fig, axes = plt.subplots(1,2, figsize=(12, 6))\n",
    "axes = axes.flat\n",
    "sns.countplot(df.diabetes, ax=axes[0])\n",
    "sns.barplot(x='diabetes', y='no_show', data=df, ax=axes[1])\n",
    "axes[1].set_title('No show percentage by presence of diabetes')\n"
   ]
  },
  {
   "cell_type": "code",
   "execution_count": 49,
   "metadata": {
    "collapsed": false
   },
   "outputs": [
    {
     "data": {
      "text/plain": [
       "<matplotlib.text.Text at 0x12108f28>"
      ]
     },
     "execution_count": 49,
     "metadata": {},
     "output_type": "execute_result"
    },
    {
     "data": {
      "image/png": "[encoded data removed]",
      "text/plain": [
       "<matplotlib.figure.Figure at 0x11e12390>"
      ]
     },
     "metadata": {},
     "output_type": "display_data"
    }
   ],
   "source": [
    "fig, axes = plt.subplots(1,2, figsize=(12, 6))\n",
    "axes = axes.flat\n",
    "sns.countplot(df.alcoholism, ax=axes[0])\n",
    "sns.barplot(x='alcoholism', y='no_show', data=df, ax=axes[1])\n",
    "axes[1].set_title('No show percentage by presence of diabetes')\n"
   ]
  },
  {
   "cell_type": "markdown",
   "metadata": {},
   "source": [
    "It seems that presence of hypertension and diabetes makes appointments less likely to result in a no show. Alcoholism doesn't seem to have an effect, though fewer alcoholism samples means we're less certain."
   ]
  },
  {
   "cell_type": "markdown",
   "metadata": {},
   "source": [
    "### SMS received"
   ]
  },
  {
   "cell_type": "markdown",
   "metadata": {},
   "source": [
    "The description of the says that a 1 in the sms_received column indicates that '1 or more messages were sent to the patient'. I assume this means reminder messages prior to the appointment, but it's unclear. As you can see below, sending messages to the patient seems to be associated with an increased likelihood of a no show. "
   ]
  },
  {
   "cell_type": "code",
   "execution_count": 50,
   "metadata": {
    "collapsed": false
   },
   "outputs": [
    {
     "data": {
      "text/plain": [
       "<matplotlib.text.Text at 0x12e09c18>"
      ]
     },
     "execution_count": 50,
     "metadata": {},
     "output_type": "execute_result"
    },
    {
     "data": {
      "image/png": "[encoded data removed]",
      "text/plain": [
       "<matplotlib.figure.Figure at 0x1183d5f8>"
      ]
     },
     "metadata": {},
     "output_type": "display_data"
    }
   ],
   "source": [
    "fig, axes = plt.subplots(1,2, figsize=(12, 6))\n",
    "axes = axes.flat\n",
    "sns.countplot(df.sms_received, ax=axes[0])\n",
    "sns.barplot(x='sms_received', y='no_show', data=df, ax=axes[1])\n",
    "axes[1].set_title('No show percentage by presence of diabetes')\n"
   ]
  },
  {
   "cell_type": "markdown",
   "metadata": {},
   "source": [
    "This unintuitive fact seems to be due a difference in the number of days between when an appointment is scheduled and when it occurs. Earlier we saw that when there aren't many days between between scheduling and the appointment, a no show is less likely. Below, we see that was often the case when a message was not sent -- look at the spike around zero in the distribution on the left. This makes sense, particularly in the case of same-day appointments, when there isn't an opportunity to send a reminder message."
   ]
  },
  {
   "cell_type": "code",
   "execution_count": 55,
   "metadata": {
    "collapsed": false
   },
   "outputs": [
    {
     "data": {
      "text/plain": [
       "<matplotlib.text.Text at 0x1edaef0>"
      ]
     },
     "execution_count": 55,
     "metadata": {},
     "output_type": "execute_result"
    },
    {
     "data": {
      "image/png": "[encoded data removed]",
      "text/plain": [
       "<matplotlib.figure.Figure at 0x11bc3d30>"
      ]
     },
     "metadata": {},
     "output_type": "display_data"
    }
   ],
   "source": [
    "fig, ax = plt.subplots(1,1, figsize=(8, 6))\n",
    "sns.violinplot(x='sms_received', y='date_diff', data=df, ax=ax)\n",
    "ax.set_title('Date diff by sms_received')"
   ]
  },
  {
   "cell_type": "code",
   "execution_count": 52,
   "metadata": {
    "collapsed": false
   },
   "outputs": [
    {
     "data": {
      "text/plain": [
       "Index(['patientid', 'appointmentid', 'gender', 'scheduledday',\n",
       "       'appointmentday', 'age', 'neighbourhood', 'scholarship', 'hipertension',\n",
       "       'diabetes', 'alcoholism', 'handcap', 'sms_received', 'no_show',\n",
       "       'scheduledday_year', 'scheduledday_month', 'scheduledday_dow',\n",
       "       'appointmentday_year', 'appointmentday_month', 'appointmentday_dow',\n",
       "       'scheduledday_hour', 'date_diff', 'prev_no_show'],\n",
       "      dtype='object')"
      ]
     },
     "execution_count": 52,
     "metadata": {},
     "output_type": "execute_result"
    }
   ],
   "source": [
    "df.columns"
   ]
  },
  {
   "cell_type": "markdown",
   "metadata": {},
   "source": [
    "### Neighborhood"
   ]
  },
  {
   "cell_type": "markdown",
   "metadata": {},
   "source": [
    "The neighborhood column tells us the location of the appointment. I haven't checked all 81 unique neighborhoods in the data set, but the most prevalent seem lie in or around Vitoria, the capital of the state of Espirito de Santo The most frequent ones seem to lie in  the state coastal region of the state of Espírito Santo.\n",
    "\n",
    "Because there are so many neighbourhoods, let's limit our exploration to those with over 1000 appointments."
   ]
  },
  {
   "cell_type": "code",
   "execution_count": 63,
   "metadata": {
    "collapsed": true
   },
   "outputs": [],
   "source": [
    "neighborhood_counts = df.neighbourhood.value_counts()\n",
    "neighborhood_counts = neighborhood_counts[neighborhood_counts > 1000]"
   ]
  },
  {
   "cell_type": "code",
   "execution_count": 68,
   "metadata": {
    "collapsed": false
   },
   "outputs": [
    {
     "data": {
      "text/plain": [
       "<matplotlib.text.Text at 0x14792198>"
      ]
     },
     "execution_count": 68,
     "metadata": {},
     "output_type": "execute_result"
    },
    {
     "data": {
      "image/png": "[encoded data removed]",
      "text/plain": [
       "<matplotlib.figure.Figure at 0x109d69b0>"
      ]
     },
     "metadata": {},
     "output_type": "display_data"
    }
   ],
   "source": [
    "fig, ax = plt.subplots(1,1, figsize=(6, 12))\n",
    "sns.barplot(y='neighbourhood', x='no_show', data=df[df.neighbourhood.isin(neighborhood_counts.index)], ax=ax)\n",
    "ax.set_title('No show percentage by neighbourhood')"
   ]
  },
  {
   "cell_type": "markdown",
   "metadata": {},
   "source": [
    "Above, we that it locations in some neighborhood seem to have a higher rate of no shows that others. For example, Santa Martha has a relatively low no sho rate while Sanots Dumont has a high rate. A deep dive into why that might be is beyond the scope of this notebook."
   ]
  },
  {
   "cell_type": "markdown",
   "metadata": {},
   "source": [
    "### Scholarship/Observation"
   ]
  },
  {
   "cell_type": "markdown",
   "metadata": {},
   "source": [
    "The publisher of the dataset writes that 'scholarship means [bolsa familia](https://en.wikipedia.org/wiki/Bolsa_Fam%C3%ADlia)', a Brazilian welfare program centered around cash transfers. I assume a one that column indicate that the patient recieves benefits from the program, but I'm not certain. As you can see below, you can see that a one is associated witha higher rate of no shows, though it's not a huge difference.\n",
    "\n"
   ]
  },
  {
   "cell_type": "code",
   "execution_count": 53,
   "metadata": {
    "collapsed": false
   },
   "outputs": [
    {
     "data": {
      "text/plain": [
       "<matplotlib.text.Text at 0x131134a8>"
      ]
     },
     "execution_count": 53,
     "metadata": {},
     "output_type": "execute_result"
    },
    {
     "data": {
      "image/png": "[encoded data removed]",
      "text/plain": [
       "<matplotlib.figure.Figure at 0x12f0c8d0>"
      ]
     },
     "metadata": {},
     "output_type": "display_data"
    }
   ],
   "source": [
    "fig, axes = plt.subplots(1,2, figsize=(12, 6))\n",
    "axes = axes.flat\n",
    "sns.countplot(df.scholarship, ax=axes[0])\n",
    "sns.barplot(x='scholarship', y='no_show', data=df, ax=axes[1])\n",
    "axes[1].set_title('No show percentage by scholarship')"
   ]
  },
  {
   "cell_type": "code",
   "execution_count": 54,
   "metadata": {
    "collapsed": false
   },
   "outputs": [
    {
     "data": {
      "text/plain": [
       "<matplotlib.axes._subplots.AxesSubplot at 0x1314f2b0>"
      ]
     },
     "execution_count": 54,
     "metadata": {},
     "output_type": "execute_result"
    },
    {
     "data": {
      "image/png": "[encoded data removed]",
      "text/plain": [
       "<matplotlib.figure.Figure at 0x11bbca20>"
      ]
     },
     "metadata": {},
     "output_type": "display_data"
    }
   ],
   "source": [
    "sns.heatmap(df.corr())"
   ]
  },
  {
   "cell_type": "code",
   "execution_count": null,
   "metadata": {
    "collapsed": true
   },
   "outputs": [],
   "source": []
  }
 ],
 "metadata": {
  "kernelspec": {
   "display_name": "Python 3",
   "language": "python",
   "name": "python3"
  },
  "language_info": {
   "codemirror_mode": {
    "name": "ipython",
    "version": 3
   },
   "file_extension": ".py",
   "mimetype": "text/x-python",
   "name": "python",
   "nbconvert_exporter": "python",
   "pygments_lexer": "ipython3",
   "version": "3.6.0"
  }
 },
 "nbformat": 4,
 "nbformat_minor": 2
}
