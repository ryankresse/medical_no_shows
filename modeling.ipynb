{
 "cells": [
  {
   "cell_type": "markdown",
   "metadata": {},
   "source": [
    "Ancova hours, something else? Add same_day to model."
   ]
  },
  {
   "cell_type": "code",
   "execution_count": 1,
   "metadata": {
    "collapsed": true
   },
   "outputs": [],
   "source": [
    "import pandas as pd\n",
    "import seaborn as sns\n",
    "import numpy as np\n",
    "import matplotlib.pyplot as plt\n",
    "import scipy.stats as stats\n",
    "from sklearn.ensemble import RandomForestClassifier\n",
    "from sklearn.linear_model import LogisticRegression\n",
    "from sklearn.model_selection import train_test_split\n",
    "from sklearn.model_selection import GridSearchCV\n",
    "from sklearn.preprocessing import StandardScaler, LabelEncoder\n",
    "from sklearn.metrics import confusion_matrix\n",
    "import pdb\n",
    "%matplotlib inline"
   ]
  },
  {
   "cell_type": "markdown",
   "metadata": {},
   "source": [
    "We created a new feature, prev_no_show, in another notebook and saved the resulting dataframe. We'll load it here so we don't have to create the feature again."
   ]
  },
  {
   "cell_type": "code",
   "execution_count": 79,
   "metadata": {
    "collapsed": false
   },
   "outputs": [],
   "source": [
    "df = pd.read_csv('no_show_prev_adj_2.csv', index_col=0)"
   ]
  },
  {
   "cell_type": "markdown",
   "metadata": {},
   "source": [
    "A helper function to return accuracy and predictions that allows us to vary the prediction threshold."
   ]
  },
  {
   "cell_type": "code",
   "execution_count": 80,
   "metadata": {
    "collapsed": true
   },
   "outputs": [],
   "source": [
    "def get_perf(model, X, y, thresh = 0.5):\n",
    "    probs = model.predict_proba(X)\n",
    "    preds =  [1 if p >= thresh else 0 for p in probs[:, 1]]\n",
    "    return (preds == y).sum() / len(y), probs, preds"
   ]
  },
  {
   "cell_type": "code",
   "execution_count": 81,
   "metadata": {
    "collapsed": false
   },
   "outputs": [
    {
     "data": {
      "text/html": [
       "<div>\n",
       "<style scoped>\n",
       "    .dataframe tbody tr th:only-of-type {\n",
       "        vertical-align: middle;\n",
       "    }\n",
       "\n",
       "    .dataframe tbody tr th {\n",
       "        vertical-align: top;\n",
       "    }\n",
       "\n",
       "    .dataframe thead th {\n",
       "        text-align: right;\n",
       "    }\n",
       "</style>\n",
       "<table border=\"1\" class=\"dataframe\">\n",
       "  <thead>\n",
       "    <tr style=\"text-align: right;\">\n",
       "      <th></th>\n",
       "      <th>patientid</th>\n",
       "      <th>appointmentid</th>\n",
       "      <th>gender</th>\n",
       "      <th>scheduledday</th>\n",
       "      <th>appointmentday</th>\n",
       "      <th>age</th>\n",
       "      <th>neighbourhood</th>\n",
       "      <th>scholarship</th>\n",
       "      <th>hipertension</th>\n",
       "      <th>diabetes</th>\n",
       "      <th>...</th>\n",
       "      <th>no_show</th>\n",
       "      <th>scheduledday_year</th>\n",
       "      <th>scheduledday_month</th>\n",
       "      <th>scheduledday_dow</th>\n",
       "      <th>appointmentday_year</th>\n",
       "      <th>appointmentday_month</th>\n",
       "      <th>appointmentday_dow</th>\n",
       "      <th>scheduledday_hour</th>\n",
       "      <th>date_diff</th>\n",
       "      <th>prev_no_show</th>\n",
       "    </tr>\n",
       "  </thead>\n",
       "  <tbody>\n",
       "    <tr>\n",
       "      <th>0</th>\n",
       "      <td>29872499824296</td>\n",
       "      <td>5642903</td>\n",
       "      <td>F</td>\n",
       "      <td>2016-04-29 18:38:08</td>\n",
       "      <td>2016-04-29 00:00:00</td>\n",
       "      <td>62</td>\n",
       "      <td>JARDIM DA PENHA</td>\n",
       "      <td>0</td>\n",
       "      <td>1</td>\n",
       "      <td>0</td>\n",
       "      <td>...</td>\n",
       "      <td>0</td>\n",
       "      <td>2016</td>\n",
       "      <td>4</td>\n",
       "      <td>4</td>\n",
       "      <td>2016</td>\n",
       "      <td>4</td>\n",
       "      <td>4</td>\n",
       "      <td>18</td>\n",
       "      <td>0</td>\n",
       "      <td>0.0</td>\n",
       "    </tr>\n",
       "    <tr>\n",
       "      <th>2151</th>\n",
       "      <td>725775968562</td>\n",
       "      <td>5521232</td>\n",
       "      <td>M</td>\n",
       "      <td>2016-03-29 11:09:08</td>\n",
       "      <td>2016-04-29 00:00:00</td>\n",
       "      <td>33</td>\n",
       "      <td>MARIA ORTIZ</td>\n",
       "      <td>0</td>\n",
       "      <td>0</td>\n",
       "      <td>0</td>\n",
       "      <td>...</td>\n",
       "      <td>0</td>\n",
       "      <td>2016</td>\n",
       "      <td>3</td>\n",
       "      <td>1</td>\n",
       "      <td>2016</td>\n",
       "      <td>4</td>\n",
       "      <td>4</td>\n",
       "      <td>11</td>\n",
       "      <td>31</td>\n",
       "      <td>0.0</td>\n",
       "    </tr>\n",
       "    <tr>\n",
       "      <th>2152</th>\n",
       "      <td>94755722517728</td>\n",
       "      <td>5521230</td>\n",
       "      <td>F</td>\n",
       "      <td>2016-03-29 11:08:52</td>\n",
       "      <td>2016-04-29 00:00:00</td>\n",
       "      <td>50</td>\n",
       "      <td>MARIA ORTIZ</td>\n",
       "      <td>0</td>\n",
       "      <td>0</td>\n",
       "      <td>0</td>\n",
       "      <td>...</td>\n",
       "      <td>0</td>\n",
       "      <td>2016</td>\n",
       "      <td>3</td>\n",
       "      <td>1</td>\n",
       "      <td>2016</td>\n",
       "      <td>4</td>\n",
       "      <td>4</td>\n",
       "      <td>11</td>\n",
       "      <td>31</td>\n",
       "      <td>0.0</td>\n",
       "    </tr>\n",
       "    <tr>\n",
       "      <th>2153</th>\n",
       "      <td>35387553979251</td>\n",
       "      <td>5523393</td>\n",
       "      <td>F</td>\n",
       "      <td>2016-03-29 17:04:40</td>\n",
       "      <td>2016-04-29 00:00:00</td>\n",
       "      <td>69</td>\n",
       "      <td>MARIA ORTIZ</td>\n",
       "      <td>0</td>\n",
       "      <td>0</td>\n",
       "      <td>0</td>\n",
       "      <td>...</td>\n",
       "      <td>0</td>\n",
       "      <td>2016</td>\n",
       "      <td>3</td>\n",
       "      <td>1</td>\n",
       "      <td>2016</td>\n",
       "      <td>4</td>\n",
       "      <td>4</td>\n",
       "      <td>17</td>\n",
       "      <td>31</td>\n",
       "      <td>0.0</td>\n",
       "    </tr>\n",
       "    <tr>\n",
       "      <th>2154</th>\n",
       "      <td>732498986588399</td>\n",
       "      <td>5642808</td>\n",
       "      <td>F</td>\n",
       "      <td>2016-04-29 17:21:24</td>\n",
       "      <td>2016-04-29 00:00:00</td>\n",
       "      <td>65</td>\n",
       "      <td>MARIA ORTIZ</td>\n",
       "      <td>0</td>\n",
       "      <td>0</td>\n",
       "      <td>0</td>\n",
       "      <td>...</td>\n",
       "      <td>0</td>\n",
       "      <td>2016</td>\n",
       "      <td>4</td>\n",
       "      <td>4</td>\n",
       "      <td>2016</td>\n",
       "      <td>4</td>\n",
       "      <td>4</td>\n",
       "      <td>17</td>\n",
       "      <td>0</td>\n",
       "      <td>0.0</td>\n",
       "    </tr>\n",
       "  </tbody>\n",
       "</table>\n",
       "<p>5 rows × 23 columns</p>\n",
       "</div>"
      ],
      "text/plain": [
       "            patientid  appointmentid gender         scheduledday  \\\n",
       "0      29872499824296        5642903      F  2016-04-29 18:38:08   \n",
       "2151     725775968562        5521232      M  2016-03-29 11:09:08   \n",
       "2152   94755722517728        5521230      F  2016-03-29 11:08:52   \n",
       "2153   35387553979251        5523393      F  2016-03-29 17:04:40   \n",
       "2154  732498986588399        5642808      F  2016-04-29 17:21:24   \n",
       "\n",
       "           appointmentday  age    neighbourhood  scholarship  hipertension  \\\n",
       "0     2016-04-29 00:00:00   62  JARDIM DA PENHA            0             1   \n",
       "2151  2016-04-29 00:00:00   33      MARIA ORTIZ            0             0   \n",
       "2152  2016-04-29 00:00:00   50      MARIA ORTIZ            0             0   \n",
       "2153  2016-04-29 00:00:00   69      MARIA ORTIZ            0             0   \n",
       "2154  2016-04-29 00:00:00   65      MARIA ORTIZ            0             0   \n",
       "\n",
       "      diabetes      ...       no_show  scheduledday_year  scheduledday_month  \\\n",
       "0            0      ...             0               2016                   4   \n",
       "2151         0      ...             0               2016                   3   \n",
       "2152         0      ...             0               2016                   3   \n",
       "2153         0      ...             0               2016                   3   \n",
       "2154         0      ...             0               2016                   4   \n",
       "\n",
       "      scheduledday_dow  appointmentday_year  appointmentday_month  \\\n",
       "0                    4                 2016                     4   \n",
       "2151                 1                 2016                     4   \n",
       "2152                 1                 2016                     4   \n",
       "2153                 1                 2016                     4   \n",
       "2154                 4                 2016                     4   \n",
       "\n",
       "      appointmentday_dow  scheduledday_hour  date_diff  prev_no_show  \n",
       "0                      4                 18          0           0.0  \n",
       "2151                   4                 11         31           0.0  \n",
       "2152                   4                 11         31           0.0  \n",
       "2153                   4                 17         31           0.0  \n",
       "2154                   4                 17          0           0.0  \n",
       "\n",
       "[5 rows x 23 columns]"
      ]
     },
     "execution_count": 81,
     "metadata": {},
     "output_type": "execute_result"
    }
   ],
   "source": [
    "df.head()"
   ]
  },
  {
   "cell_type": "code",
   "execution_count": 82,
   "metadata": {
    "collapsed": false
   },
   "outputs": [
    {
     "data": {
      "text/plain": [
       "patientid               0\n",
       "appointmentid           0\n",
       "gender                  0\n",
       "scheduledday            0\n",
       "appointmentday          0\n",
       "age                     0\n",
       "neighbourhood           0\n",
       "scholarship             0\n",
       "hipertension            0\n",
       "diabetes                0\n",
       "alcoholism              0\n",
       "handcap                 0\n",
       "sms_received            0\n",
       "no_show                 0\n",
       "scheduledday_year       0\n",
       "scheduledday_month      0\n",
       "scheduledday_dow        0\n",
       "appointmentday_year     0\n",
       "appointmentday_month    0\n",
       "appointmentday_dow      0\n",
       "scheduledday_hour       0\n",
       "date_diff               0\n",
       "prev_no_show            0\n",
       "dtype: int64"
      ]
     },
     "execution_count": 82,
     "metadata": {},
     "output_type": "execute_result"
    }
   ],
   "source": [
    "df.isnull().sum()"
   ]
  },
  {
   "cell_type": "code",
   "execution_count": 83,
   "metadata": {
    "collapsed": false
   },
   "outputs": [
    {
     "data": {
      "text/plain": [
       "patientid                 int64\n",
       "appointmentid             int64\n",
       "gender                   object\n",
       "scheduledday             object\n",
       "appointmentday           object\n",
       "age                       int64\n",
       "neighbourhood            object\n",
       "scholarship               int64\n",
       "hipertension              int64\n",
       "diabetes                  int64\n",
       "alcoholism                int64\n",
       "handcap                   int64\n",
       "sms_received              int64\n",
       "no_show                   int64\n",
       "scheduledday_year         int64\n",
       "scheduledday_month        int64\n",
       "scheduledday_dow          int64\n",
       "appointmentday_year       int64\n",
       "appointmentday_month      int64\n",
       "appointmentday_dow        int64\n",
       "scheduledday_hour         int64\n",
       "date_diff                 int64\n",
       "prev_no_show            float64\n",
       "dtype: object"
      ]
     },
     "execution_count": 83,
     "metadata": {},
     "output_type": "execute_result"
    }
   ],
   "source": [
    "df.dtypes"
   ]
  },
  {
   "cell_type": "code",
   "execution_count": 84,
   "metadata": {
    "collapsed": true
   },
   "outputs": [],
   "source": [
    "df['patientid'] = df.patientid.astype(str)"
   ]
  },
  {
   "cell_type": "markdown",
   "metadata": {},
   "source": [
    "Parse dates and add date_diff feature."
   ]
  },
  {
   "cell_type": "code",
   "execution_count": 85,
   "metadata": {
    "collapsed": false
   },
   "outputs": [],
   "source": [
    "for col in ['scheduledday', 'appointmentday']:\n",
    "    df[col] = pd.to_datetime(df[col])\n",
    "    df[col+'_year'] = df[col].dt.year\n",
    "    df[col+'_month'] = df[col].dt.month\n",
    "    df[col+'_dow'] = df[col].dt.dayofweek\n",
    "    df['scheduledday_hour'] = df.scheduledday.dt.hour\n",
    "df['date_diff'] = (df.appointmentday.dt.date - df.scheduledday.dt.date).dt.days "
   ]
  },
  {
   "cell_type": "markdown",
   "metadata": {},
   "source": [
    "Create feature indicating if the appointment occured on the same day it was scheduled."
   ]
  },
  {
   "cell_type": "code",
   "execution_count": 86,
   "metadata": {
    "collapsed": true
   },
   "outputs": [],
   "source": [
    "df['same_day'] = (df.appointmentday.dt.date == df.scheduledday.dt.date).astype(int)"
   ]
  },
  {
   "cell_type": "markdown",
   "metadata": {},
   "source": [
    "Label encode gender and neighborhood and drop unneeded columns."
   ]
  },
  {
   "cell_type": "code",
   "execution_count": 87,
   "metadata": {
    "collapsed": true
   },
   "outputs": [],
   "source": [
    "df['gender'] = LabelEncoder().fit_transform(df.gender)\n",
    "df['neighbourhood'] = LabelEncoder().fit_transform(df.neighbourhood)\n",
    "df.drop(['patientid', 'appointmentid', 'appointmentday', 'scheduledday'], axis=1, inplace=True)"
   ]
  },
  {
   "cell_type": "code",
   "execution_count": 88,
   "metadata": {
    "collapsed": false
   },
   "outputs": [
    {
     "data": {
      "text/plain": [
       "Index(['gender', 'age', 'neighbourhood', 'scholarship', 'hipertension',\n",
       "       'diabetes', 'alcoholism', 'handcap', 'sms_received', 'no_show',\n",
       "       'scheduledday_year', 'scheduledday_month', 'scheduledday_dow',\n",
       "       'appointmentday_year', 'appointmentday_month', 'appointmentday_dow',\n",
       "       'scheduledday_hour', 'date_diff', 'prev_no_show', 'same_day'],\n",
       "      dtype='object')"
      ]
     },
     "execution_count": 88,
     "metadata": {},
     "output_type": "execute_result"
    }
   ],
   "source": [
    "df.columns"
   ]
  },
  {
   "cell_type": "markdown",
   "metadata": {},
   "source": [
    "# Random Forest"
   ]
  },
  {
   "cell_type": "markdown",
   "metadata": {},
   "source": [
    "#### Determine Hyperparameters"
   ]
  },
  {
   "cell_type": "code",
   "execution_count": 14,
   "metadata": {
    "collapsed": false
   },
   "outputs": [
    {
     "name": "stdout",
     "output_type": "stream",
     "text": [
      "Fitting 3 folds for each of 9 candidates, totalling 27 fits\n",
      "[CV] max_depth=8, n_estimators=50 ....................................\n",
      "[CV]  max_depth=8, n_estimators=50, score=0.8005048448823385, total=   1.5s\n",
      "[CV] max_depth=8, n_estimators=50 ....................................\n"
     ]
    },
    {
     "name": "stderr",
     "output_type": "stream",
     "text": [
      "[Parallel(n_jobs=1)]: Done   1 out of   1 | elapsed:    1.8s remaining:    0.0s\n"
     ]
    },
    {
     "name": "stdout",
     "output_type": "stream",
     "text": [
      "[CV]  max_depth=8, n_estimators=50, score=0.8020519501669245, total=   1.4s\n",
      "[CV] max_depth=8, n_estimators=50 ....................................\n"
     ]
    },
    {
     "name": "stderr",
     "output_type": "stream",
     "text": [
      "[Parallel(n_jobs=1)]: Done   2 out of   2 | elapsed:    3.5s remaining:    0.0s\n"
     ]
    },
    {
     "name": "stdout",
     "output_type": "stream",
     "text": [
      "[CV]  max_depth=8, n_estimators=50, score=0.7997882793626666, total=   1.4s\n",
      "[CV] max_depth=8, n_estimators=80 ....................................\n"
     ]
    },
    {
     "name": "stderr",
     "output_type": "stream",
     "text": [
      "[Parallel(n_jobs=1)]: Done   3 out of   3 | elapsed:    5.2s remaining:    0.0s\n"
     ]
    },
    {
     "name": "stdout",
     "output_type": "stream",
     "text": [
      "[CV]  max_depth=8, n_estimators=80, score=0.8009662622479168, total=   2.3s\n",
      "[CV] max_depth=8, n_estimators=80 ....................................\n"
     ]
    },
    {
     "name": "stderr",
     "output_type": "stream",
     "text": [
      "[Parallel(n_jobs=1)]: Done   4 out of   4 | elapsed:    7.9s remaining:    0.0s\n"
     ]
    },
    {
     "name": "stdout",
     "output_type": "stream",
     "text": [
      "[CV]  max_depth=8, n_estimators=80, score=0.801699101593247, total=   2.4s\n",
      "[CV] max_depth=8, n_estimators=80 ....................................\n"
     ]
    },
    {
     "name": "stderr",
     "output_type": "stream",
     "text": [
      "[Parallel(n_jobs=1)]: Done   5 out of   5 | elapsed:   10.7s remaining:    0.0s\n"
     ]
    },
    {
     "name": "stdout",
     "output_type": "stream",
     "text": [
      "[CV]  max_depth=8, n_estimators=80, score=0.8000325724057435, total=   2.3s\n",
      "[CV] max_depth=8, n_estimators=100 ...................................\n"
     ]
    },
    {
     "name": "stderr",
     "output_type": "stream",
     "text": [
      "[Parallel(n_jobs=1)]: Done   6 out of   6 | elapsed:   13.6s remaining:    0.0s\n"
     ]
    },
    {
     "name": "stdout",
     "output_type": "stream",
     "text": [
      "[CV]  max_depth=8, n_estimators=100, score=0.8010748310398176, total=   3.0s\n",
      "[CV] max_depth=8, n_estimators=100 ...................................\n"
     ]
    },
    {
     "name": "stderr",
     "output_type": "stream",
     "text": [
      "[Parallel(n_jobs=1)]: Done   7 out of   7 | elapsed:   17.1s remaining:    0.0s\n"
     ]
    },
    {
     "name": "stdout",
     "output_type": "stream",
     "text": [
      "[CV]  max_depth=8, n_estimators=100, score=0.8016176749993215, total=   3.0s\n",
      "[CV] max_depth=8, n_estimators=100 ...................................\n"
     ]
    },
    {
     "name": "stderr",
     "output_type": "stream",
     "text": [
      "[Parallel(n_jobs=1)]: Done   8 out of   8 | elapsed:   20.7s remaining:    0.0s\n"
     ]
    },
    {
     "name": "stdout",
     "output_type": "stream",
     "text": [
      "[CV]  max_depth=8, n_estimators=100, score=0.7999511413913846, total=   2.9s\n",
      "[CV] max_depth=10, n_estimators=50 ...................................\n"
     ]
    },
    {
     "name": "stderr",
     "output_type": "stream",
     "text": [
      "[Parallel(n_jobs=1)]: Done   9 out of   9 | elapsed:   24.1s remaining:    0.0s\n"
     ]
    },
    {
     "name": "stdout",
     "output_type": "stream",
     "text": [
      "[CV]  max_depth=10, n_estimators=50, score=0.8012648264256439, total=   1.7s\n",
      "[CV] max_depth=10, n_estimators=50 ...................................\n",
      "[CV]  max_depth=10, n_estimators=50, score=0.8014548218114703, total=   1.7s\n",
      "[CV] max_depth=10, n_estimators=50 ...................................\n",
      "[CV]  max_depth=10, n_estimators=50, score=0.7999239977199316, total=   1.7s\n",
      "[CV] max_depth=10, n_estimators=80 ...................................\n",
      "[CV]  max_depth=10, n_estimators=80, score=0.8012919686236192, total=   2.8s\n",
      "[CV] max_depth=10, n_estimators=80 ...................................\n",
      "[CV]  max_depth=10, n_estimators=80, score=0.8017262437912223, total=   2.8s\n",
      "[CV] max_depth=10, n_estimators=80 ...................................\n",
      "[CV]  max_depth=10, n_estimators=80, score=0.8001140034201026, total=   2.7s\n",
      "[CV] max_depth=10, n_estimators=100 ..................................\n",
      "[CV]  max_depth=10, n_estimators=100, score=0.8009934044458921, total=   3.4s\n",
      "[CV] max_depth=10, n_estimators=100 ..................................\n",
      "[CV]  max_depth=10, n_estimators=100, score=0.8017533859891974, total=   3.4s\n",
      "[CV] max_depth=10, n_estimators=100 ..................................\n",
      "[CV]  max_depth=10, n_estimators=100, score=0.8002768654488206, total=   3.5s\n",
      "[CV] max_depth=15, n_estimators=50 ...................................\n",
      "[CV]  max_depth=15, n_estimators=50, score=0.7993920147653557, total=   2.4s\n",
      "[CV] max_depth=15, n_estimators=50 ...................................\n",
      "[CV]  max_depth=15, n_estimators=50, score=0.799853432130934, total=   2.4s\n",
      "[CV] max_depth=15, n_estimators=50 ...................................\n",
      "[CV]  max_depth=15, n_estimators=50, score=0.7981868027469395, total=   2.4s\n",
      "[CV] max_depth=15, n_estimators=80 ...................................\n",
      "[CV]  max_depth=15, n_estimators=80, score=0.8002605651005619, total=   4.0s\n",
      "[CV] max_depth=15, n_estimators=80 ...................................\n",
      "[CV]  max_depth=15, n_estimators=80, score=0.8002062807046114, total=   3.8s\n",
      "[CV] max_depth=15, n_estimators=80 ...................................\n",
      "[CV]  max_depth=15, n_estimators=80, score=0.7979153660324095, total=   3.7s\n",
      "[CV] max_depth=15, n_estimators=100 ..................................\n",
      "[CV]  max_depth=15, n_estimators=100, score=0.7999620009228348, total=   4.9s\n",
      "[CV] max_depth=15, n_estimators=100 ..................................\n",
      "[CV]  max_depth=15, n_estimators=100, score=0.8003419916944874, total=   4.8s\n",
      "[CV] max_depth=15, n_estimators=100 ..................................\n",
      "[CV]  max_depth=15, n_estimators=100, score=0.7981325154040335, total=   4.8s\n"
     ]
    },
    {
     "name": "stderr",
     "output_type": "stream",
     "text": [
      "[Parallel(n_jobs=1)]: Done  27 out of  27 | elapsed:  1.5min finished\n"
     ]
    },
    {
     "data": {
      "text/plain": [
       "GridSearchCV(cv=None, error_score='raise',\n",
       "       estimator=RandomForestClassifier(bootstrap=True, class_weight=None, criterion='gini',\n",
       "            max_depth=None, max_features='auto', max_leaf_nodes=None,\n",
       "            min_impurity_decrease=0.0, min_impurity_split=None,\n",
       "            min_samples_leaf=1, min_samples_split=2,\n",
       "            min_weight_fraction_leaf=0.0, n_estimators=10, n_jobs=1,\n",
       "            oob_score=False, random_state=17, verbose=0, warm_start=False),\n",
       "       fit_params=None, iid=True, n_jobs=1,\n",
       "       param_grid={'n_estimators': [50, 80, 100], 'max_depth': [8, 10, 15]},\n",
       "       pre_dispatch='2*n_jobs', refit=True, return_train_score='warn',\n",
       "       scoring=None, verbose=10)"
      ]
     },
     "execution_count": 14,
     "metadata": {},
     "output_type": "execute_result"
    }
   ],
   "source": [
    "rf = RandomForestClassifier(random_state=17)\n",
    "p_grid = {'n_estimators':[50, 80, 100], 'max_depth':[8, 10,15]}\n",
    "gs = GridSearchCV(rf, p_grid, verbose=10)\n",
    "gs.fit(df.drop('no_show', axis=1), df.no_show)"
   ]
  },
  {
   "cell_type": "code",
   "execution_count": 15,
   "metadata": {
    "collapsed": false
   },
   "outputs": [
    {
     "data": {
      "text/plain": [
       "({'max_depth': 10, 'n_estimators': 80}, 0.80104408877468858)"
      ]
     },
     "execution_count": 15,
     "metadata": {},
     "output_type": "execute_result"
    }
   ],
   "source": [
    "gs.best_params_, gs.best_score_"
   ]
  },
  {
   "cell_type": "markdown",
   "metadata": {},
   "source": [
    "#### Performance evaluation"
   ]
  },
  {
   "cell_type": "markdown",
   "metadata": {},
   "source": [
    "Split into train and validation set."
   ]
  },
  {
   "cell_type": "code",
   "execution_count": 89,
   "metadata": {
    "collapsed": false
   },
   "outputs": [
    {
     "data": {
      "text/plain": [
       "(88421, 22106)"
      ]
     },
     "execution_count": 89,
     "metadata": {},
     "output_type": "execute_result"
    }
   ],
   "source": [
    "tr, test = train_test_split(df, test_size=0.2, random_state=17, stratify=df.no_show.values)\n",
    "len(tr), len(test)"
   ]
  },
  {
   "cell_type": "code",
   "execution_count": 90,
   "metadata": {
    "collapsed": true
   },
   "outputs": [],
   "source": [
    "X_tr = tr.drop('no_show', axis=1) \n",
    "X_test = test.drop('no_show', axis=1)\n",
    "y_tr = tr.no_show\n",
    "y_test = test.no_show"
   ]
  },
  {
   "cell_type": "code",
   "execution_count": 91,
   "metadata": {
    "collapsed": false
   },
   "outputs": [
    {
     "data": {
      "text/plain": [
       "((88421, 19), (88421,), (22106, 19), (22106,))"
      ]
     },
     "execution_count": 91,
     "metadata": {},
     "output_type": "execute_result"
    }
   ],
   "source": [
    "X_tr.shape, y_tr.shape, X_test.shape, y_test.shape"
   ]
  },
  {
   "cell_type": "markdown",
   "metadata": {},
   "source": [
    "Fit model with all the features, so we get a baseline level of performance."
   ]
  },
  {
   "cell_type": "code",
   "execution_count": 93,
   "metadata": {
    "collapsed": false
   },
   "outputs": [
    {
     "data": {
      "text/plain": [
       "RandomForestClassifier(bootstrap=True, class_weight=None, criterion='gini',\n",
       "            max_depth=10, max_features='auto', max_leaf_nodes=None,\n",
       "            min_impurity_decrease=0.0, min_impurity_split=None,\n",
       "            min_samples_leaf=1, min_samples_split=2,\n",
       "            min_weight_fraction_leaf=0.0, n_estimators=80, n_jobs=1,\n",
       "            oob_score=False, random_state=17, verbose=0, warm_start=False)"
      ]
     },
     "execution_count": 93,
     "metadata": {},
     "output_type": "execute_result"
    }
   ],
   "source": [
    "base_rf = RandomForestClassifier(n_estimators=80, max_depth=10, random_state=17)\n",
    "base_rf.fit(X_tr, y_tr)"
   ]
  },
  {
   "cell_type": "code",
   "execution_count": 115,
   "metadata": {
    "collapsed": false
   },
   "outputs": [
    {
     "data": {
      "text/plain": [
       "0.80236134985976659"
      ]
     },
     "execution_count": 115,
     "metadata": {},
     "output_type": "execute_result"
    }
   ],
   "source": [
    "base_acc, probs, preds = get_perf(base_rf, X_test, y_test, thresh=0.5)\n",
    "acc"
   ]
  },
  {
   "cell_type": "code",
   "execution_count": 95,
   "metadata": {
    "collapsed": false
   },
   "outputs": [
    {
     "data": {
      "text/plain": [
       "(17560, 82, 4287, 177)"
      ]
     },
     "execution_count": 95,
     "metadata": {},
     "output_type": "execute_result"
    }
   ],
   "source": [
    "tn, fp, fn, tp = confusion_matrix(y_test, preds).ravel()\n",
    "tn,fp, fn,tp"
   ]
  },
  {
   "cell_type": "code",
   "execution_count": 96,
   "metadata": {
    "collapsed": false
   },
   "outputs": [],
   "source": [
    "cm = confusion_matrix(y_test, preds)"
   ]
  },
  {
   "cell_type": "code",
   "execution_count": 97,
   "metadata": {
    "collapsed": false
   },
   "outputs": [
    {
     "data": {
      "text/plain": [
       "array([[17560,    82],\n",
       "       [ 4287,   177]])"
      ]
     },
     "execution_count": 97,
     "metadata": {},
     "output_type": "execute_result"
    }
   ],
   "source": [
    "cm"
   ]
  },
  {
   "cell_type": "markdown",
   "metadata": {},
   "source": [
    "A plotting function from the scikit-learn docs."
   ]
  },
  {
   "cell_type": "code",
   "execution_count": 98,
   "metadata": {
    "collapsed": false
   },
   "outputs": [],
   "source": [
    "import itertools\n",
    "def plot_confusion_matrix(cm, classes,\n",
    "                          normalize=False,\n",
    "                          title='Confusion matrix',\n",
    "                          fontsize=18,\n",
    "                          cmap=plt.cm.Blues):\n",
    "    \"\"\"\n",
    "    This function prints and plots the confusion matrix.\n",
    "    Normalization can be applied by setting `normalize=True`.\n",
    "    \"\"\"\n",
    "    if normalize:\n",
    "        cm = cm.astype('float') / cm.sum(axis=1)[:, np.newaxis]\n",
    "        #print(\"Normalized confusion matrix\")\n",
    "    else:\n",
    "        pass\n",
    "        #print('Confusion matrix, without normalization')\n",
    "\n",
    "    fig = plt.figure(figsize=(10,10))\n",
    "    plt.imshow(cm, interpolation='nearest', cmap=cmap)\n",
    "    #plt.title(title)\n",
    "    #plt.colorbar()\n",
    "    tick_marks = np.arange(len(classes))\n",
    "    plt.xticks(tick_marks, classes,  fontsize=14, rotation=45)\n",
    "    plt.yticks(tick_marks, classes, fontsize=14)\n",
    "\n",
    "    fmt = '.2f' if normalize else 'd'\n",
    "    thresh = cm.max() / 2.\n",
    "    for i, j in itertools.product(range(cm.shape[0]), range(cm.shape[1])):\n",
    "        plt.text(j, i, format(cm[i, j], fmt),\n",
    "                 horizontalalignment=\"center\",\n",
    "                 fontsize=20 ,color=\"white\" if cm[i, j] > thresh else \"black\")\n",
    "\n",
    "    #plt.tight_layout()\n",
    "    plt.ylabel('True label', fontsize=16)\n",
    "    plt.xlabel('Predicted label', fontsize=16)\n",
    "    plt.savefig('confusion_mat.png')\n"
   ]
  },
  {
   "cell_type": "code",
   "execution_count": 99,
   "metadata": {
    "collapsed": false
   },
   "outputs": [
    {
     "data": {
      "image/png": "[encoded data removed]",
      "text/plain": [
       "<matplotlib.figure.Figure at 0x7f667c3da9e8>"
      ]
     },
     "metadata": {},
     "output_type": "display_data"
    }
   ],
   "source": [
    "plot_confusion_matrix(cm, ['showed up', 'no show'])"
   ]
  },
  {
   "cell_type": "markdown",
   "metadata": {},
   "source": [
    "We see above that the majority of our errors are false negatives.\n",
    "\n",
    "Below, we plot the distribution of predicted probabilities of a no show. Our model seems to be very confident that many of the appointments in the validation set are not no shows. Then there is a smaller group of appointments that it's not so sure about, but that it still thinks are probably negatives."
   ]
  },
  {
   "cell_type": "code",
   "execution_count": 100,
   "metadata": {
    "collapsed": false
   },
   "outputs": [
    {
     "data": {
      "text/plain": [
       "<matplotlib.text.Text at 0x7f667c405d30>"
      ]
     },
     "execution_count": 100,
     "metadata": {},
     "output_type": "execute_result"
    },
    {
     "data": {
      "image/png": "[encoded data removed]",
      "text/plain": [
       "<matplotlib.figure.Figure at 0x7f667c3b2470>"
      ]
     },
     "metadata": {},
     "output_type": "display_data"
    }
   ],
   "source": [
    "fig, ax = plt.subplots(1,1,figsize=(12, 6))\n",
    "sns.distplot(probs[:, 1], ax=ax)\n",
    "ax.set_title('Distribution of predicted probability of a no show', fontsize=16)"
   ]
  },
  {
   "cell_type": "markdown",
   "metadata": {},
   "source": [
    "Below, we take the rows our model predicted was a no show and compare the distribution of some of their features to the entire dataset. Notice the difference between the distributions for date_diff and scheduledday_month, a feature that roughly measures the same thing as date_diff."
   ]
  },
  {
   "cell_type": "code",
   "execution_count": 101,
   "metadata": {
    "collapsed": false
   },
   "outputs": [],
   "source": [
    "pos_pred_ix = probs[:, 1] > 0.5"
   ]
  },
  {
   "cell_type": "code",
   "execution_count": 102,
   "metadata": {
    "collapsed": false
   },
   "outputs": [
    {
     "data": {
      "text/plain": [
       "259"
      ]
     },
     "execution_count": 102,
     "metadata": {},
     "output_type": "execute_result"
    }
   ],
   "source": [
    "pos_pred_ix.sum()"
   ]
  },
  {
   "cell_type": "code",
   "execution_count": 103,
   "metadata": {
    "collapsed": false
   },
   "outputs": [
    {
     "data": {
      "text/plain": [
       "(259, 19)"
      ]
     },
     "execution_count": 103,
     "metadata": {},
     "output_type": "execute_result"
    }
   ],
   "source": [
    "pos_preds = X_test[pos_pred_ix]\n",
    "pos_preds.shape"
   ]
  },
  {
   "cell_type": "code",
   "execution_count": 104,
   "metadata": {
    "collapsed": true
   },
   "outputs": [],
   "source": [
    "def plotDists(df1, df2, col, title):\n",
    "    fig, axes = plt.subplots(1,2, figsize=(14, 6))\n",
    "    axes = axes.ravel()\n",
    "    ax1 = axes[0]\n",
    "    ax2 = axes[1]\n",
    "    sns.distplot(df1[col], ax=ax1)\n",
    "    sns.distplot(df2[col], ax=ax2)\n",
    "    ax1.set_title(title, fontsize=16)\n",
    "    ax2.set_title('Entire dataset', fontsize=16)\n",
    "\n",
    "def plotCounts(df1, df2, col, title):\n",
    "    fig, axes = plt.subplots(1,2, figsize=(14, 6))\n",
    "    axes = axes.ravel()\n",
    "    ax1 = axes[0]\n",
    "    ax2 = axes[1]\n",
    "    sns.countplot(df1[col], ax=ax1)\n",
    "    sns.countplot(df2[col], ax=ax2)\n",
    "    ax1.set_title(title, fontsize=16)\n",
    "    ax2.set_title('Entire dataset', fontsize=16)\n"
   ]
  },
  {
   "cell_type": "code",
   "execution_count": 105,
   "metadata": {
    "collapsed": true
   },
   "outputs": [],
   "source": [
    "title = 'Predicted no shows'"
   ]
  },
  {
   "cell_type": "code",
   "execution_count": 106,
   "metadata": {
    "collapsed": false
   },
   "outputs": [
    {
     "data": {
      "image/png": "[encoded data removed]",
      "text/plain": [
       "<matplotlib.figure.Figure at 0x7f667c3a6f28>"
      ]
     },
     "metadata": {},
     "output_type": "display_data"
    }
   ],
   "source": [
    "plotDists(pos_preds, df, 'age', title)"
   ]
  },
  {
   "cell_type": "code",
   "execution_count": 107,
   "metadata": {
    "collapsed": false
   },
   "outputs": [
    {
     "name": "stderr",
     "output_type": "stream",
     "text": [
      "/home/ryanryanadmin/anaconda3/lib/python3.6/site-packages/seaborn/categorical.py:1428: FutureWarning: remove_na is deprecated and is a private function. Do not use.\n",
      "  stat_data = remove_na(group_data)\n"
     ]
    },
    {
     "data": {
      "image/png": "[encoded data removed]",
      "text/plain": [
       "<matplotlib.figure.Figure at 0x7f667e5aa9e8>"
      ]
     },
     "metadata": {},
     "output_type": "display_data"
    }
   ],
   "source": [
    "plotCounts(pos_preds, df, 'gender', title)"
   ]
  },
  {
   "cell_type": "code",
   "execution_count": 108,
   "metadata": {
    "collapsed": false
   },
   "outputs": [
    {
     "data": {
      "image/png": "[encoded data removed]",
      "text/plain": [
       "<matplotlib.figure.Figure at 0x7f667737e9b0>"
      ]
     },
     "metadata": {},
     "output_type": "display_data"
    }
   ],
   "source": [
    "plotDists(pos_preds, df, 'date_diff', title)"
   ]
  },
  {
   "cell_type": "code",
   "execution_count": 109,
   "metadata": {
    "collapsed": false
   },
   "outputs": [
    {
     "name": "stderr",
     "output_type": "stream",
     "text": [
      "/home/ryanryanadmin/anaconda3/lib/python3.6/site-packages/seaborn/categorical.py:1428: FutureWarning: remove_na is deprecated and is a private function. Do not use.\n",
      "  stat_data = remove_na(group_data)\n"
     ]
    },
    {
     "data": {
      "image/png": "[encoded data removed]",
      "text/plain": [
       "<matplotlib.figure.Figure at 0x7f667d52ac50>"
      ]
     },
     "metadata": {},
     "output_type": "display_data"
    }
   ],
   "source": [
    "plotCounts(pos_preds, df, 'scheduledday_month', title)"
   ]
  },
  {
   "cell_type": "markdown",
   "metadata": {},
   "source": [
    "Below, we look at the distribution of date_diff for appointments our model was confident weren't no shows. Notice that all of them are same day appointments."
   ]
  },
  {
   "cell_type": "code",
   "execution_count": 110,
   "metadata": {
    "collapsed": false
   },
   "outputs": [
    {
     "data": {
      "text/plain": [
       "7398"
      ]
     },
     "execution_count": 110,
     "metadata": {},
     "output_type": "execute_result"
    }
   ],
   "source": [
    "sure_neg_ix = probs[:, 1] < 0.1\n",
    "sure_neg_ix.sum()"
   ]
  },
  {
   "cell_type": "code",
   "execution_count": 111,
   "metadata": {
    "collapsed": false
   },
   "outputs": [
    {
     "data": {
      "text/plain": [
       "(7398, 19)"
      ]
     },
     "execution_count": 111,
     "metadata": {},
     "output_type": "execute_result"
    }
   ],
   "source": [
    "sure_neg = X_test[sure_neg_ix]\n",
    "sure_neg.shape"
   ]
  },
  {
   "cell_type": "code",
   "execution_count": 112,
   "metadata": {
    "collapsed": false
   },
   "outputs": [
    {
     "name": "stderr",
     "output_type": "stream",
     "text": [
      "/home/ryanryanadmin/anaconda3/lib/python3.6/site-packages/statsmodels/nonparametric/kde.py:494: RuntimeWarning: invalid value encountered in true_divide\n",
      "  binned = fast_linbin(X,a,b,gridsize)/(delta*nobs)\n",
      "/home/ryanryanadmin/anaconda3/lib/python3.6/site-packages/statsmodels/nonparametric/kdetools.py:34: RuntimeWarning: invalid value encountered in double_scalars\n",
      "  FAC1 = 2*(np.pi*bw/RANGE)**2\n"
     ]
    },
    {
     "data": {
      "image/png": "[encoded data removed]",
      "text/plain": [
       "<matplotlib.figure.Figure at 0x7f667e5aa518>"
      ]
     },
     "metadata": {},
     "output_type": "display_data"
    }
   ],
   "source": [
    "title = 'Confident not no show'\n",
    "plotDists(sure_neg, df, 'date_diff', title)"
   ]
  },
  {
   "cell_type": "markdown",
   "metadata": {},
   "source": [
    "#### Feature Importances"
   ]
  },
  {
   "cell_type": "markdown",
   "metadata": {},
   "source": [
    "Let's first look at the default feature importances our random forest provides."
   ]
  },
  {
   "cell_type": "code",
   "execution_count": 113,
   "metadata": {
    "collapsed": false
   },
   "outputs": [
    {
     "data": {
      "text/plain": [
       "<matplotlib.axes._subplots.AxesSubplot at 0x7f667aa57e80>"
      ]
     },
     "execution_count": 113,
     "metadata": {},
     "output_type": "execute_result"
    },
    {
     "data": {
      "image/png": "[encoded data removed]",
      "text/plain": [
       "<matplotlib.figure.Figure at 0x7f6677737630>"
      ]
     },
     "metadata": {},
     "output_type": "display_data"
    }
   ],
   "source": [
    "fig, ax = plt.subplots(1,1, figsize=(12, 8))\n",
    "feat_imp = pd.DataFrame(columns=['feature', 'importance'])\n",
    "feat_imp['feature'] = X_tr.columns\n",
    "feat_imp['importance'] = base_rf.feature_importances_\n",
    "feat_imp.sort_values('importance', ascending=True).plot(kind='barh', x='feature', y='importance', ax=ax)"
   ]
  },
  {
   "cell_type": "markdown",
   "metadata": {},
   "source": [
    "Features corresponding to the time between the scheduling date and appointment date (same_day, date_diff, and scheduledday_month) are near the top. Age, neighborhood and previous no shows"
   ]
  },
  {
   "cell_type": "markdown",
   "metadata": {},
   "source": [
    "#### Drop Column Importances"
   ]
  },
  {
   "cell_type": "markdown",
   "metadata": {},
   "source": [
    "As noted [here](http://parrt.cs.usfca.edu/doc/rf-importance/index.html), the default feature importances provided by scikit-learn can be misleading. We'll try two alternate approaches. In the first, we loop through all of our features, train a model without the current feature, then compare its performance to the performance of the original model (above) trained with all the features. The drop in accuracy between the new model and the original model is that feature's importance."
   ]
  },
  {
   "cell_type": "code",
   "execution_count": 118,
   "metadata": {
    "collapsed": false
   },
   "outputs": [
    {
     "data": {
      "text/plain": [
       "<matplotlib.axes._subplots.AxesSubplot at 0x7f667a8ccf98>"
      ]
     },
     "execution_count": 118,
     "metadata": {},
     "output_type": "execute_result"
    },
    {
     "data": {
      "image/png": "[encoded data removed]",
      "text/plain": [
       "<matplotlib.figure.Figure at 0x7f667a85e630>"
      ]
     },
     "metadata": {},
     "output_type": "display_data"
    }
   ],
   "source": [
    "fig, ax = plt.subplots(1,1, figsize=(12, 8))\n",
    "\n",
    "imps = []\n",
    "for col in X_tr:\n",
    "    X_tr_mod = X_tr.drop(col, axis=1)\n",
    "    rf = RandomForestClassifier(n_estimators=80, max_depth=10, random_state=17)\n",
    "    rf.fit(X_tr_mod, y_tr)\n",
    "    imps.append((base_acc - ((rf.predict(X_test.drop(col, axis=1)) == y_test).sum() / len(y_test)), col))\n",
    "\n",
    "drop_imps = pd.DataFrame(imps, columns=['accuracy_drop', 'feature'])\n",
    "\n",
    "drop_imps.sort_values('accuracy_drop').plot(kind='barh', x='feature', y='accuracy_drop', ax=ax)"
   ]
  },
  {
   "cell_type": "markdown",
   "metadata": {},
   "source": [
    "With this approach, prev_no_show is by far the most important feature. It also seems that dropping many of the columns would imporve accuracy. However, notice the values on the x-axis -- the changes in accuracy for all the columns are less than .5%."
   ]
  },
  {
   "cell_type": "markdown",
   "metadata": {
    "collapsed": true
   },
   "source": [
    "#### Permutation Importances"
   ]
  },
  {
   "cell_type": "markdown",
   "metadata": {},
   "source": [
    "Instead of dropping features one by one, we could instead shuffle their values. This approach is much faster as we don't have to train a new model for each feature."
   ]
  },
  {
   "cell_type": "code",
   "execution_count": 124,
   "metadata": {
    "collapsed": true
   },
   "outputs": [],
   "source": [
    "def shuffleCol(df, col):\n",
    "    return np.random.permutation(df[col].values)"
   ]
  },
  {
   "cell_type": "code",
   "execution_count": 125,
   "metadata": {
    "collapsed": false
   },
   "outputs": [
    {
     "data": {
      "text/plain": [
       "0       62\n",
       "2151    33\n",
       "2152    50\n",
       "2153    69\n",
       "2154    65\n",
       "Name: age, dtype: int64"
      ]
     },
     "execution_count": 125,
     "metadata": {},
     "output_type": "execute_result"
    }
   ],
   "source": [
    "df.age.head()"
   ]
  },
  {
   "cell_type": "code",
   "execution_count": 127,
   "metadata": {
    "collapsed": false
   },
   "outputs": [
    {
     "data": {
      "text/plain": [
       "array([28, 22, 60, 12, 32, 19])"
      ]
     },
     "execution_count": 127,
     "metadata": {},
     "output_type": "execute_result"
    }
   ],
   "source": [
    "shuffleCol(df, 'age')[:6]"
   ]
  },
  {
   "cell_type": "code",
   "execution_count": 132,
   "metadata": {
    "collapsed": false
   },
   "outputs": [
    {
     "data": {
      "text/plain": [
       "<matplotlib.axes._subplots.AxesSubplot at 0x7f667e3b6b00>"
      ]
     },
     "execution_count": 132,
     "metadata": {},
     "output_type": "execute_result"
    },
    {
     "data": {
      "image/png": "[encoded data removed]",
      "text/plain": [
       "<matplotlib.figure.Figure at 0x7f667aa603c8>"
      ]
     },
     "metadata": {},
     "output_type": "display_data"
    }
   ],
   "source": [
    "fig, ax = plt.subplots(1,1, figsize=(12, 8))\n",
    "\n",
    "imps = []\n",
    "for col in X_tr:\n",
    "    X_test_mod = X_test.copy()\n",
    "    X_test_mod[col] = shuffleCol(X_test_mod, col)\n",
    "    imps.append((base_acc - ((base_rf.predict(X_test_mod) == y_test).sum() / len(y_test)), col))\n",
    "\n",
    "perm_imps = pd.DataFrame(imps, columns=['accuracy_drop', 'feature'])\n",
    "\n",
    "perm_imps.sort_values('accuracy_drop').plot(kind='barh', x='feature', y='accuracy_drop', ax=ax)"
   ]
  },
  {
   "cell_type": "markdown",
   "metadata": {},
   "source": [
    "# Logistic Regression"
   ]
  },
  {
   "cell_type": "markdown",
   "metadata": {},
   "source": [
    "Let's also try a logistic regression model. Below is a helper function to prepare the data for the model."
   ]
  },
  {
   "cell_type": "code",
   "execution_count": 135,
   "metadata": {
    "collapsed": true
   },
   "outputs": [],
   "source": [
    "def preprocess_lr(df, dummy_cols, cont_cols,drop_col=None):\n",
    "    #make copies so as to not modify in place\n",
    "    df = df.copy(); dummy_cols = list(dummy_cols); cont_cols = list(cont_cols)\n",
    "    \n",
    "    #drop col for calculating feature importances\n",
    "    if drop_col:\n",
    "        if drop_col in dummy_cols: dummy_cols.remove(drop_col)\n",
    "        if drop_col in cont_cols: cont_cols.remove(drop_col)\n",
    "        df = df.drop(drop_col, axis=1)\n",
    "    \n",
    "    #one-hot encode columns\n",
    "    dummies = pd.get_dummies(df[dummy_cols], columns=dummy_cols)\n",
    "    df.drop(dummy_cols, axis=1, inplace=True)\n",
    "    df = df.merge(dummies, left_index=True, right_index=True)\n",
    "    \n",
    "    #split\n",
    "    tr, test = train_test_split(df, test_size=0.2, random_state=17, stratify=df.no_show)\n",
    "    \n",
    "    #wnormalize continuous features\n",
    "    for col in cont_cols:\n",
    "        sc = StandardScaler()\n",
    "        tr.loc[:, col] = sc.fit_transform(tr[col].values.reshape(-1,1))\n",
    "        test.loc[:, col] = sc.transform(test[col].values.reshape(-1,1))\n",
    "    \n",
    "    return tr, test\n",
    "\n",
    "dummy_cols = ['neighbourhood', \n",
    "              'handcap', \n",
    "              'appointmentday_dow', \n",
    "              'scheduledday_dow', \n",
    "              'scheduledday_year',\n",
    "              'scheduledday_month', \n",
    "              'appointmentday_year',\n",
    "             'appointmentday_month',\n",
    "             'scheduledday_hour'\n",
    "             ]\n",
    "cont_cols = ['age', 'date_diff', 'prev_no_show']\n"
   ]
  },
  {
   "cell_type": "markdown",
   "metadata": {},
   "source": [
    "#### Tune C"
   ]
  },
  {
   "cell_type": "code",
   "execution_count": 136,
   "metadata": {
    "collapsed": false
   },
   "outputs": [
    {
     "name": "stderr",
     "output_type": "stream",
     "text": [
      "/home/ryanryanadmin/anaconda3/lib/python3.6/site-packages/sklearn/utils/validation.py:475: DataConversionWarning: Data with input dtype int64 was converted to float64 by StandardScaler.\n",
      "  warnings.warn(msg, DataConversionWarning)\n",
      "/home/ryanryanadmin/anaconda3/lib/python3.6/site-packages/pandas/core/indexing.py:537: SettingWithCopyWarning: \n",
      "A value is trying to be set on a copy of a slice from a DataFrame.\n",
      "Try using .loc[row_indexer,col_indexer] = value instead\n",
      "\n",
      "See the caveats in the documentation: http://pandas.pydata.org/pandas-docs/stable/indexing.html#indexing-view-versus-copy\n",
      "  self.obj[item] = s\n"
     ]
    }
   ],
   "source": [
    "tr, test = preprocess_lr(df, dummy_cols, cont_cols)\n",
    "lr_cv_df = pd.concat([tr, test], axis=0)"
   ]
  },
  {
   "cell_type": "code",
   "execution_count": 137,
   "metadata": {
    "collapsed": false
   },
   "outputs": [
    {
     "data": {
      "text/html": [
       "<div>\n",
       "<style scoped>\n",
       "    .dataframe tbody tr th:only-of-type {\n",
       "        vertical-align: middle;\n",
       "    }\n",
       "\n",
       "    .dataframe tbody tr th {\n",
       "        vertical-align: top;\n",
       "    }\n",
       "\n",
       "    .dataframe thead th {\n",
       "        text-align: right;\n",
       "    }\n",
       "</style>\n",
       "<table border=\"1\" class=\"dataframe\">\n",
       "  <thead>\n",
       "    <tr style=\"text-align: right;\">\n",
       "      <th></th>\n",
       "      <th>gender</th>\n",
       "      <th>age</th>\n",
       "      <th>scholarship</th>\n",
       "      <th>hipertension</th>\n",
       "      <th>diabetes</th>\n",
       "      <th>alcoholism</th>\n",
       "      <th>sms_received</th>\n",
       "      <th>no_show</th>\n",
       "      <th>date_diff</th>\n",
       "      <th>prev_no_show</th>\n",
       "      <th>...</th>\n",
       "      <th>scheduledday_hour_12</th>\n",
       "      <th>scheduledday_hour_13</th>\n",
       "      <th>scheduledday_hour_14</th>\n",
       "      <th>scheduledday_hour_15</th>\n",
       "      <th>scheduledday_hour_16</th>\n",
       "      <th>scheduledday_hour_17</th>\n",
       "      <th>scheduledday_hour_18</th>\n",
       "      <th>scheduledday_hour_19</th>\n",
       "      <th>scheduledday_hour_20</th>\n",
       "      <th>scheduledday_hour_21</th>\n",
       "    </tr>\n",
       "  </thead>\n",
       "  <tbody>\n",
       "    <tr>\n",
       "      <th>26079</th>\n",
       "      <td>1</td>\n",
       "      <td>-1.600743</td>\n",
       "      <td>0</td>\n",
       "      <td>0</td>\n",
       "      <td>0</td>\n",
       "      <td>0</td>\n",
       "      <td>0</td>\n",
       "      <td>0</td>\n",
       "      <td>-0.668589</td>\n",
       "      <td>-0.316171</td>\n",
       "      <td>...</td>\n",
       "      <td>0</td>\n",
       "      <td>0</td>\n",
       "      <td>0</td>\n",
       "      <td>0</td>\n",
       "      <td>0</td>\n",
       "      <td>0</td>\n",
       "      <td>0</td>\n",
       "      <td>0</td>\n",
       "      <td>0</td>\n",
       "      <td>0</td>\n",
       "    </tr>\n",
       "    <tr>\n",
       "      <th>47882</th>\n",
       "      <td>0</td>\n",
       "      <td>0.302716</td>\n",
       "      <td>0</td>\n",
       "      <td>0</td>\n",
       "      <td>0</td>\n",
       "      <td>0</td>\n",
       "      <td>1</td>\n",
       "      <td>0</td>\n",
       "      <td>0.515371</td>\n",
       "      <td>-0.316171</td>\n",
       "      <td>...</td>\n",
       "      <td>0</td>\n",
       "      <td>0</td>\n",
       "      <td>0</td>\n",
       "      <td>0</td>\n",
       "      <td>0</td>\n",
       "      <td>0</td>\n",
       "      <td>0</td>\n",
       "      <td>0</td>\n",
       "      <td>0</td>\n",
       "      <td>0</td>\n",
       "    </tr>\n",
       "    <tr>\n",
       "      <th>56298</th>\n",
       "      <td>0</td>\n",
       "      <td>-0.475971</td>\n",
       "      <td>0</td>\n",
       "      <td>0</td>\n",
       "      <td>0</td>\n",
       "      <td>0</td>\n",
       "      <td>0</td>\n",
       "      <td>1</td>\n",
       "      <td>-0.142384</td>\n",
       "      <td>-0.316171</td>\n",
       "      <td>...</td>\n",
       "      <td>1</td>\n",
       "      <td>0</td>\n",
       "      <td>0</td>\n",
       "      <td>0</td>\n",
       "      <td>0</td>\n",
       "      <td>0</td>\n",
       "      <td>0</td>\n",
       "      <td>0</td>\n",
       "      <td>0</td>\n",
       "      <td>0</td>\n",
       "    </tr>\n",
       "    <tr>\n",
       "      <th>76134</th>\n",
       "      <td>0</td>\n",
       "      <td>0.778581</td>\n",
       "      <td>1</td>\n",
       "      <td>0</td>\n",
       "      <td>0</td>\n",
       "      <td>0</td>\n",
       "      <td>0</td>\n",
       "      <td>0</td>\n",
       "      <td>-0.668589</td>\n",
       "      <td>1.224623</td>\n",
       "      <td>...</td>\n",
       "      <td>0</td>\n",
       "      <td>0</td>\n",
       "      <td>0</td>\n",
       "      <td>0</td>\n",
       "      <td>0</td>\n",
       "      <td>0</td>\n",
       "      <td>0</td>\n",
       "      <td>0</td>\n",
       "      <td>0</td>\n",
       "      <td>0</td>\n",
       "    </tr>\n",
       "    <tr>\n",
       "      <th>44922</th>\n",
       "      <td>1</td>\n",
       "      <td>1.297706</td>\n",
       "      <td>0</td>\n",
       "      <td>1</td>\n",
       "      <td>0</td>\n",
       "      <td>0</td>\n",
       "      <td>0</td>\n",
       "      <td>0</td>\n",
       "      <td>-0.602813</td>\n",
       "      <td>-0.316171</td>\n",
       "      <td>...</td>\n",
       "      <td>0</td>\n",
       "      <td>0</td>\n",
       "      <td>0</td>\n",
       "      <td>0</td>\n",
       "      <td>0</td>\n",
       "      <td>0</td>\n",
       "      <td>0</td>\n",
       "      <td>0</td>\n",
       "      <td>0</td>\n",
       "      <td>0</td>\n",
       "    </tr>\n",
       "  </tbody>\n",
       "</table>\n",
       "<p>5 rows × 139 columns</p>\n",
       "</div>"
      ],
      "text/plain": [
       "       gender       age  scholarship  hipertension  diabetes  alcoholism  \\\n",
       "26079       1 -1.600743            0             0         0           0   \n",
       "47882       0  0.302716            0             0         0           0   \n",
       "56298       0 -0.475971            0             0         0           0   \n",
       "76134       0  0.778581            1             0         0           0   \n",
       "44922       1  1.297706            0             1         0           0   \n",
       "\n",
       "       sms_received  no_show  date_diff  prev_no_show          ...           \\\n",
       "26079             0        0  -0.668589     -0.316171          ...            \n",
       "47882             1        0   0.515371     -0.316171          ...            \n",
       "56298             0        1  -0.142384     -0.316171          ...            \n",
       "76134             0        0  -0.668589      1.224623          ...            \n",
       "44922             0        0  -0.602813     -0.316171          ...            \n",
       "\n",
       "       scheduledday_hour_12  scheduledday_hour_13  scheduledday_hour_14  \\\n",
       "26079                     0                     0                     0   \n",
       "47882                     0                     0                     0   \n",
       "56298                     1                     0                     0   \n",
       "76134                     0                     0                     0   \n",
       "44922                     0                     0                     0   \n",
       "\n",
       "       scheduledday_hour_15  scheduledday_hour_16  scheduledday_hour_17  \\\n",
       "26079                     0                     0                     0   \n",
       "47882                     0                     0                     0   \n",
       "56298                     0                     0                     0   \n",
       "76134                     0                     0                     0   \n",
       "44922                     0                     0                     0   \n",
       "\n",
       "       scheduledday_hour_18  scheduledday_hour_19  scheduledday_hour_20  \\\n",
       "26079                     0                     0                     0   \n",
       "47882                     0                     0                     0   \n",
       "56298                     0                     0                     0   \n",
       "76134                     0                     0                     0   \n",
       "44922                     0                     0                     0   \n",
       "\n",
       "       scheduledday_hour_21  \n",
       "26079                     0  \n",
       "47882                     0  \n",
       "56298                     0  \n",
       "76134                     0  \n",
       "44922                     0  \n",
       "\n",
       "[5 rows x 139 columns]"
      ]
     },
     "execution_count": 137,
     "metadata": {},
     "output_type": "execute_result"
    }
   ],
   "source": [
    "lr_cv_df.head()"
   ]
  },
  {
   "cell_type": "code",
   "execution_count": 147,
   "metadata": {
    "collapsed": false
   },
   "outputs": [
    {
     "name": "stdout",
     "output_type": "stream",
     "text": [
      "Fitting 3 folds for each of 6 candidates, totalling 18 fits\n",
      "[CV] C=0.1, penalty=l2 ...............................................\n",
      "[CV] ...... C=0.1, penalty=l2, score=0.7996634367451076, total=   0.8s\n",
      "[CV] C=0.1, penalty=l2 ...............................................\n"
     ]
    },
    {
     "name": "stderr",
     "output_type": "stream",
     "text": [
      "[Parallel(n_jobs=1)]: Done   1 out of   1 | elapsed:    0.8s remaining:    0.0s\n"
     ]
    },
    {
     "name": "stdout",
     "output_type": "stream",
     "text": [
      "[CV] ...... C=0.1, penalty=l2, score=0.7986591754200255, total=   0.7s\n",
      "[CV] C=0.1, penalty=l2 ...............................................\n"
     ]
    },
    {
     "name": "stderr",
     "output_type": "stream",
     "text": [
      "[Parallel(n_jobs=1)]: Done   2 out of   2 | elapsed:    1.6s remaining:    0.0s\n"
     ]
    },
    {
     "name": "stdout",
     "output_type": "stream",
     "text": [
      "[CV] ...... C=0.1, penalty=l2, score=0.8001411470915556, total=   0.7s\n",
      "[CV] C=0.1, penalty=l1 ...............................................\n"
     ]
    },
    {
     "name": "stderr",
     "output_type": "stream",
     "text": [
      "[Parallel(n_jobs=1)]: Done   3 out of   3 | elapsed:    2.4s remaining:    0.0s\n"
     ]
    },
    {
     "name": "stdout",
     "output_type": "stream",
     "text": [
      "[CV] ....... C=0.1, penalty=l1, score=0.799446299161306, total=   2.6s\n",
      "[CV] C=0.1, penalty=l1 ...............................................\n"
     ]
    },
    {
     "name": "stderr",
     "output_type": "stream",
     "text": [
      "[Parallel(n_jobs=1)]: Done   4 out of   4 | elapsed:    5.0s remaining:    0.0s\n"
     ]
    },
    {
     "name": "stdout",
     "output_type": "stream",
     "text": [
      "[CV] ...... C=0.1, penalty=l1, score=0.7985777488260999, total=   4.7s\n",
      "[CV] C=0.1, penalty=l1 ...............................................\n"
     ]
    },
    {
     "name": "stderr",
     "output_type": "stream",
     "text": [
      "[Parallel(n_jobs=1)]: Done   5 out of   5 | elapsed:    9.7s remaining:    0.0s\n"
     ]
    },
    {
     "name": "stdout",
     "output_type": "stream",
     "text": [
      "[CV] ...... C=0.1, penalty=l1, score=0.7997882793626666, total=   0.8s\n",
      "[CV] C=1, penalty=l2 .................................................\n"
     ]
    },
    {
     "name": "stderr",
     "output_type": "stream",
     "text": [
      "[Parallel(n_jobs=1)]: Done   6 out of   6 | elapsed:   10.6s remaining:    0.0s\n"
     ]
    },
    {
     "name": "stdout",
     "output_type": "stream",
     "text": [
      "[CV] ........ C=1, penalty=l2, score=0.7996634367451076, total=   0.9s\n",
      "[CV] C=1, penalty=l2 .................................................\n"
     ]
    },
    {
     "name": "stderr",
     "output_type": "stream",
     "text": [
      "[Parallel(n_jobs=1)]: Done   7 out of   7 | elapsed:   11.5s remaining:    0.0s\n"
     ]
    },
    {
     "name": "stdout",
     "output_type": "stream",
     "text": [
      "[CV] ........ C=1, penalty=l2, score=0.7987677442119263, total=   1.0s\n",
      "[CV] C=1, penalty=l2 .................................................\n"
     ]
    },
    {
     "name": "stderr",
     "output_type": "stream",
     "text": [
      "[Parallel(n_jobs=1)]: Done   8 out of   8 | elapsed:   12.6s remaining:    0.0s\n"
     ]
    },
    {
     "name": "stdout",
     "output_type": "stream",
     "text": [
      "[CV] ........ C=1, penalty=l2, score=0.8003854401346326, total=   0.9s\n",
      "[CV] C=1, penalty=l1 .................................................\n"
     ]
    },
    {
     "name": "stderr",
     "output_type": "stream",
     "text": [
      "[Parallel(n_jobs=1)]: Done   9 out of   9 | elapsed:   13.6s remaining:    0.0s\n"
     ]
    },
    {
     "name": "stdout",
     "output_type": "stream",
     "text": [
      "[CV] ......... C=1, penalty=l1, score=0.799717721141058, total=  10.2s\n",
      "[CV] C=1, penalty=l1 .................................................\n",
      "[CV] ........ C=1, penalty=l1, score=0.7987677442119263, total=   3.1s\n",
      "[CV] C=1, penalty=l1 .................................................\n",
      "[CV] ........ C=1, penalty=l1, score=0.8004397274775387, total=   8.9s\n",
      "[CV] C=10, penalty=l2 ................................................\n",
      "[CV] ....... C=10, penalty=l2, score=0.7995277257552317, total=   1.3s\n",
      "[CV] C=10, penalty=l2 ................................................\n",
      "[CV] ....... C=10, penalty=l2, score=0.7987406020139511, total=   1.6s\n",
      "[CV] C=10, penalty=l2 ................................................\n",
      "[CV] ....... C=10, penalty=l2, score=0.8003040091202737, total=   1.6s\n",
      "[CV] C=10, penalty=l1 ................................................\n",
      "[CV] ....... C=10, penalty=l1, score=0.7995548679532068, total=   1.4s\n",
      "[CV] C=10, penalty=l1 ................................................\n",
      "[CV] ....... C=10, penalty=l1, score=0.7987948864099015, total=   0.9s\n",
      "[CV] C=10, penalty=l1 ................................................\n",
      "[CV] ....... C=10, penalty=l1, score=0.8003582964631796, total=   4.6s\n"
     ]
    },
    {
     "name": "stderr",
     "output_type": "stream",
     "text": [
      "[Parallel(n_jobs=1)]: Done  18 out of  18 | elapsed:   47.7s finished\n"
     ]
    },
    {
     "data": {
      "text/plain": [
       "GridSearchCV(cv=None, error_score='raise',\n",
       "       estimator=LogisticRegression(C=1.0, class_weight=None, dual=False, fit_intercept=True,\n",
       "          intercept_scaling=1, max_iter=100, multi_class='ovr', n_jobs=1,\n",
       "          penalty='l2', random_state=None, solver='liblinear', tol=0.0001,\n",
       "          verbose=0, warm_start=False),\n",
       "       fit_params=None, iid=True, n_jobs=1,\n",
       "       param_grid={'penalty': ['l2', 'l1'], 'C': [0.1, 1, 10]},\n",
       "       pre_dispatch='2*n_jobs', refit=True, return_train_score='warn',\n",
       "       scoring=None, verbose=10)"
      ]
     },
     "execution_count": 147,
     "metadata": {},
     "output_type": "execute_result"
    }
   ],
   "source": [
    "lr = LogisticRegression()\n",
    "p_grid = {'penalty':['l2', 'l1'], 'C':[ 0.1, 1, 10]}\n",
    "gs = GridSearchCV(lr, p_grid, verbose=10)\n",
    "gs.fit(lr_cv_df.drop('no_show', axis=1), lr_cv_df.no_show)"
   ]
  },
  {
   "cell_type": "code",
   "execution_count": 148,
   "metadata": {
    "collapsed": false
   },
   "outputs": [
    {
     "data": {
      "text/plain": [
       "0.79964171650365978"
      ]
     },
     "execution_count": 148,
     "metadata": {},
     "output_type": "execute_result"
    }
   ],
   "source": [
    "gs.best_score_"
   ]
  },
  {
   "cell_type": "code",
   "execution_count": 149,
   "metadata": {
    "collapsed": false
   },
   "outputs": [
    {
     "data": {
      "text/plain": [
       "{'C': 1, 'penalty': 'l1'}"
      ]
     },
     "execution_count": 149,
     "metadata": {},
     "output_type": "execute_result"
    }
   ],
   "source": [
    "gs.best_params_"
   ]
  },
  {
   "cell_type": "code",
   "execution_count": 152,
   "metadata": {
    "collapsed": false
   },
   "outputs": [
    {
     "name": "stderr",
     "output_type": "stream",
     "text": [
      "/home/ryanryanadmin/anaconda3/lib/python3.6/site-packages/sklearn/utils/validation.py:475: DataConversionWarning: Data with input dtype int64 was converted to float64 by StandardScaler.\n",
      "  warnings.warn(msg, DataConversionWarning)\n",
      "/home/ryanryanadmin/anaconda3/lib/python3.6/site-packages/pandas/core/indexing.py:537: SettingWithCopyWarning: \n",
      "A value is trying to be set on a copy of a slice from a DataFrame.\n",
      "Try using .loc[row_indexer,col_indexer] = value instead\n",
      "\n",
      "See the caveats in the documentation: http://pandas.pydata.org/pandas-docs/stable/indexing.html#indexing-view-versus-copy\n",
      "  self.obj[item] = s\n"
     ]
    },
    {
     "data": {
      "text/plain": [
       "0.799828100968063"
      ]
     },
     "execution_count": 152,
     "metadata": {},
     "output_type": "execute_result"
    }
   ],
   "source": [
    "tr, test = preprocess_lr(df, dummy_cols, cont_cols)\n",
    "X_tr = tr.drop('no_show', axis=1) \n",
    "X_test = test.drop('no_show', axis=1)\n",
    "y_tr = tr.no_show\n",
    "y_test = test.no_show\n",
    "base_lr = LogisticRegression(penalty='l1', C=1)\n",
    "base_lr.fit(X_tr, y_tr)"
   ]
  },
  {
   "cell_type": "code",
   "execution_count": 153,
   "metadata": {
    "collapsed": false
   },
   "outputs": [
    {
     "data": {
      "text/plain": [
       "0.79964715461865554"
      ]
     },
     "execution_count": 153,
     "metadata": {},
     "output_type": "execute_result"
    }
   ],
   "source": [
    "acc, probs, preds = get_perf(base_lr, X_test, y_test, 0.49)\n",
    "acc"
   ]
  },
  {
   "cell_type": "code",
   "execution_count": 154,
   "metadata": {
    "collapsed": false
   },
   "outputs": [
    {
     "data": {
      "text/plain": [
       "(17477, 165, 4264, 200)"
      ]
     },
     "execution_count": 154,
     "metadata": {},
     "output_type": "execute_result"
    }
   ],
   "source": [
    "tn, fp, fn, tp = confusion_matrix(y_test, preds).ravel()\n",
    "tn,fp, fn,tp"
   ]
  },
  {
   "cell_type": "code",
   "execution_count": 156,
   "metadata": {
    "collapsed": false
   },
   "outputs": [
    {
     "data": {
      "text/plain": [
       "<matplotlib.text.Text at 0x7f667a8db470>"
      ]
     },
     "execution_count": 156,
     "metadata": {},
     "output_type": "execute_result"
    },
    {
     "data": {
      "image/png": "[encoded data removed]",
      "text/plain": [
       "<matplotlib.figure.Figure at 0x7f667750a550>"
      ]
     },
     "metadata": {},
     "output_type": "display_data"
    }
   ],
   "source": [
    "fig, ax = plt.subplots(1,1,figsize=(12, 6))\n",
    "sns.distplot(probs[:, 1], ax=ax)\n",
    "ax.set_title('Distribution of predicted probability of a no show', fontsize=16)"
   ]
  },
  {
   "cell_type": "markdown",
   "metadata": {},
   "source": [
    "Drop column accuracy"
   ]
  },
  {
   "cell_type": "code",
   "execution_count": 158,
   "metadata": {
    "collapsed": false
   },
   "outputs": [
    {
     "name": "stderr",
     "output_type": "stream",
     "text": [
      "/home/ryanryanadmin/anaconda3/lib/python3.6/site-packages/sklearn/utils/validation.py:475: DataConversionWarning: Data with input dtype int64 was converted to float64 by StandardScaler.\n",
      "  warnings.warn(msg, DataConversionWarning)\n",
      "/home/ryanryanadmin/anaconda3/lib/python3.6/site-packages/pandas/core/indexing.py:537: SettingWithCopyWarning: \n",
      "A value is trying to be set on a copy of a slice from a DataFrame.\n",
      "Try using .loc[row_indexer,col_indexer] = value instead\n",
      "\n",
      "See the caveats in the documentation: http://pandas.pydata.org/pandas-docs/stable/indexing.html#indexing-view-versus-copy\n",
      "  self.obj[item] = s\n"
     ]
    }
   ],
   "source": [
    "acc_drop = []\n",
    "for col in df.drop('no_show', axis=1).columns:\n",
    "    tr, test = preprocess_lr(df, dummy_cols, cont_cols, col)\n",
    "    X_tr = tr.drop('no_show', axis=1) \n",
    "    X_test = test.drop('no_show', axis=1)\n",
    "    y_tr = tr.no_show\n",
    "    y_test = test.no_show\n",
    "    lr = LogisticRegression(penalty='l1', C=1)\n",
    "    lr.fit(X_tr, y_tr)\n",
    "    acc, probs, preds = get_perf(lr, X_test, y_test)\n",
    "    acc_drop.append((base_acc - acc, col))"
   ]
  },
  {
   "cell_type": "code",
   "execution_count": 159,
   "metadata": {
    "collapsed": false
   },
   "outputs": [
    {
     "data": {
      "text/plain": [
       "<matplotlib.axes._subplots.AxesSubplot at 0x7f667d27ffd0>"
      ]
     },
     "execution_count": 159,
     "metadata": {},
     "output_type": "execute_result"
    },
    {
     "data": {
      "image/png": "[encoded data removed]",
      "text/plain": [
       "<matplotlib.figure.Figure at 0x7f667e4c1e48>"
      ]
     },
     "metadata": {},
     "output_type": "display_data"
    }
   ],
   "source": [
    "fig, ax = plt.subplots(1,1, figsize=(12, 8))\n",
    "pd.DataFrame(acc_drop, columns=['acc_drop', 'feat' ]).sort_values('acc_drop').plot(kind='barh', x='feat', y='acc_drop', ax=ax)"
   ]
  },
  {
   "cell_type": "code",
   "execution_count": null,
   "metadata": {
    "collapsed": true
   },
   "outputs": [],
   "source": []
  }
 ],
 "metadata": {
  "kernelspec": {
   "display_name": "Python 3",
   "language": "python",
   "name": "python3"
  },
  "language_info": {
   "codemirror_mode": {
    "name": "ipython",
    "version": 3
   },
   "file_extension": ".py",
   "mimetype": "text/x-python",
   "name": "python",
   "nbconvert_exporter": "python",
   "pygments_lexer": "ipython3",
   "version": "3.6.0"
  }
 },
 "nbformat": 4,
 "nbformat_minor": 2
}
